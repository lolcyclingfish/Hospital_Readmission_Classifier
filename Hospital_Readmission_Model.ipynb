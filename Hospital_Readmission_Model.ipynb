{
 "cells": [
  {
   "cell_type": "markdown",
   "metadata": {},
   "source": [
    "#https://www.kff.org/medicare/issue-brief/aiming-for-fewer-hospital-u-turns-the-medicare-hospital-readmission-reduction-program/\n",
    "\n",
    "## BACKGROUND: DEFINING A HOSPITAL READMISSION\n",
    "Generally speaking, a hospital readmission occurs when a patient is admitted to a hospital within a specified time period after being discharged from an earlier (initial) hospitalization. For Medicare, this time period is defined as 30 days, and includes hospital readmissions to any hospital, not just the hospital at which the patient was originally hospitalized. Medicare uses an “all-cause” definition of readmission, meaning that hospital stays within 30 days of a discharge from an initial hospitalization are considered readmissions, regardless of the reason for the readmission. This all-cause definition is used in calculating both the national average readmission rate and each hospital’s specific readmission rate. Starting in 2014, CMS began making an exception for planned hospitalizations (such as a scheduled coronary angioplasty) within the 30-day window; these are no longer counted as readmissions.\n",
    "\n",
    "The current focus in the HRRP is on readmissions occurring after initial hospitalizations for selected conditions—namely, heart attack, heart failure, pneumonia, chronic obstructive pulmonary disease (COPD), elective hip or knee replacement, and coronary artery bypass graft (CABG). CMS also collects hospitals’ overall readmission rates (regardless of initial diagnoses), but these overall rates are not currently used in the HRRP to calculate readmissions penalties."
   ]
  },
  {
   "cell_type": "markdown",
   "metadata": {},
   "source": [
    "## Overview\n",
    "\n",
    "### 1.) Data Cleansing\n",
    "### 2.) Feature Engineering\n",
    "### 3.) Feature Selection\n",
    "### 4.) Model Fitting - Logistic Regression\n",
    "### 5.) Model Accuracy Testing\n",
    "### 6.) Model Optimization\n",
    "### 7.) Gain Table & Lift Chart"
   ]
  },
  {
   "cell_type": "code",
   "execution_count": 1,
   "metadata": {
    "collapsed": true
   },
   "outputs": [],
   "source": [
    "import numpy as np\n",
    "import pandas as pd\n",
    "import matplotlib.pyplot as plt\n",
    "#enable IPython to display matplotlib graphs\n",
    "%matplotlib inline\n",
    "import csv"
   ]
  },
  {
   "cell_type": "code",
   "execution_count": 2,
   "metadata": {
    "collapsed": false
   },
   "outputs": [
    {
     "data": {
      "text/plain": [
       "(101766, 50)"
      ]
     },
     "execution_count": 2,
     "metadata": {},
     "output_type": "execute_result"
    }
   ],
   "source": [
    "#read in training data set\n",
    "data=pd.read_csv('diabetic_data_initial.csv')\n",
    "data.head(10)\n",
    "data.shape"
   ]
  },
  {
   "cell_type": "code",
   "execution_count": 3,
   "metadata": {
    "collapsed": false
   },
   "outputs": [
    {
     "data": {
      "text/html": [
       "<div>\n",
       "<style scoped>\n",
       "    .dataframe tbody tr th:only-of-type {\n",
       "        vertical-align: middle;\n",
       "    }\n",
       "\n",
       "    .dataframe tbody tr th {\n",
       "        vertical-align: top;\n",
       "    }\n",
       "\n",
       "    .dataframe thead th {\n",
       "        text-align: right;\n",
       "    }\n",
       "</style>\n",
       "<table border=\"1\" class=\"dataframe\">\n",
       "  <thead>\n",
       "    <tr style=\"text-align: right;\">\n",
       "      <th></th>\n",
       "      <th>encounter_id</th>\n",
       "      <th>patient_nbr</th>\n",
       "      <th>race</th>\n",
       "      <th>gender</th>\n",
       "      <th>age</th>\n",
       "      <th>weight</th>\n",
       "      <th>admission_type_id</th>\n",
       "      <th>discharge_disposition_id</th>\n",
       "      <th>admission_source_id</th>\n",
       "      <th>time_in_hospital</th>\n",
       "      <th>...</th>\n",
       "      <th>citoglipton</th>\n",
       "      <th>insulin</th>\n",
       "      <th>glyburide-metformin</th>\n",
       "      <th>glipizide-metformin</th>\n",
       "      <th>glimepiride-pioglitazone</th>\n",
       "      <th>metformin-rosiglitazone</th>\n",
       "      <th>metformin-pioglitazone</th>\n",
       "      <th>change</th>\n",
       "      <th>diabetesMed</th>\n",
       "      <th>readmitted</th>\n",
       "    </tr>\n",
       "  </thead>\n",
       "  <tbody>\n",
       "    <tr>\n",
       "      <th>0</th>\n",
       "      <td>2278392</td>\n",
       "      <td>8222157</td>\n",
       "      <td>Caucasian</td>\n",
       "      <td>Female</td>\n",
       "      <td>[0-10)</td>\n",
       "      <td>?</td>\n",
       "      <td>6</td>\n",
       "      <td>25</td>\n",
       "      <td>1</td>\n",
       "      <td>1</td>\n",
       "      <td>...</td>\n",
       "      <td>No</td>\n",
       "      <td>No</td>\n",
       "      <td>No</td>\n",
       "      <td>No</td>\n",
       "      <td>No</td>\n",
       "      <td>No</td>\n",
       "      <td>No</td>\n",
       "      <td>No</td>\n",
       "      <td>No</td>\n",
       "      <td>NO</td>\n",
       "    </tr>\n",
       "    <tr>\n",
       "      <th>1</th>\n",
       "      <td>149190</td>\n",
       "      <td>55629189</td>\n",
       "      <td>Caucasian</td>\n",
       "      <td>Female</td>\n",
       "      <td>[10-20)</td>\n",
       "      <td>?</td>\n",
       "      <td>1</td>\n",
       "      <td>1</td>\n",
       "      <td>7</td>\n",
       "      <td>3</td>\n",
       "      <td>...</td>\n",
       "      <td>No</td>\n",
       "      <td>Up</td>\n",
       "      <td>No</td>\n",
       "      <td>No</td>\n",
       "      <td>No</td>\n",
       "      <td>No</td>\n",
       "      <td>No</td>\n",
       "      <td>Ch</td>\n",
       "      <td>Yes</td>\n",
       "      <td>&gt;30</td>\n",
       "    </tr>\n",
       "    <tr>\n",
       "      <th>2</th>\n",
       "      <td>64410</td>\n",
       "      <td>86047875</td>\n",
       "      <td>AfricanAmerican</td>\n",
       "      <td>Female</td>\n",
       "      <td>[20-30)</td>\n",
       "      <td>?</td>\n",
       "      <td>1</td>\n",
       "      <td>1</td>\n",
       "      <td>7</td>\n",
       "      <td>2</td>\n",
       "      <td>...</td>\n",
       "      <td>No</td>\n",
       "      <td>No</td>\n",
       "      <td>No</td>\n",
       "      <td>No</td>\n",
       "      <td>No</td>\n",
       "      <td>No</td>\n",
       "      <td>No</td>\n",
       "      <td>No</td>\n",
       "      <td>Yes</td>\n",
       "      <td>NO</td>\n",
       "    </tr>\n",
       "    <tr>\n",
       "      <th>3</th>\n",
       "      <td>500364</td>\n",
       "      <td>82442376</td>\n",
       "      <td>Caucasian</td>\n",
       "      <td>Male</td>\n",
       "      <td>[30-40)</td>\n",
       "      <td>?</td>\n",
       "      <td>1</td>\n",
       "      <td>1</td>\n",
       "      <td>7</td>\n",
       "      <td>2</td>\n",
       "      <td>...</td>\n",
       "      <td>No</td>\n",
       "      <td>Up</td>\n",
       "      <td>No</td>\n",
       "      <td>No</td>\n",
       "      <td>No</td>\n",
       "      <td>No</td>\n",
       "      <td>No</td>\n",
       "      <td>Ch</td>\n",
       "      <td>Yes</td>\n",
       "      <td>NO</td>\n",
       "    </tr>\n",
       "    <tr>\n",
       "      <th>4</th>\n",
       "      <td>16680</td>\n",
       "      <td>42519267</td>\n",
       "      <td>Caucasian</td>\n",
       "      <td>Male</td>\n",
       "      <td>[40-50)</td>\n",
       "      <td>?</td>\n",
       "      <td>1</td>\n",
       "      <td>1</td>\n",
       "      <td>7</td>\n",
       "      <td>1</td>\n",
       "      <td>...</td>\n",
       "      <td>No</td>\n",
       "      <td>Steady</td>\n",
       "      <td>No</td>\n",
       "      <td>No</td>\n",
       "      <td>No</td>\n",
       "      <td>No</td>\n",
       "      <td>No</td>\n",
       "      <td>Ch</td>\n",
       "      <td>Yes</td>\n",
       "      <td>NO</td>\n",
       "    </tr>\n",
       "  </tbody>\n",
       "</table>\n",
       "<p>5 rows × 50 columns</p>\n",
       "</div>"
      ],
      "text/plain": [
       "   encounter_id  patient_nbr             race  gender      age weight  \\\n",
       "0       2278392      8222157        Caucasian  Female   [0-10)      ?   \n",
       "1        149190     55629189        Caucasian  Female  [10-20)      ?   \n",
       "2         64410     86047875  AfricanAmerican  Female  [20-30)      ?   \n",
       "3        500364     82442376        Caucasian    Male  [30-40)      ?   \n",
       "4         16680     42519267        Caucasian    Male  [40-50)      ?   \n",
       "\n",
       "   admission_type_id  discharge_disposition_id  admission_source_id  \\\n",
       "0                  6                        25                    1   \n",
       "1                  1                         1                    7   \n",
       "2                  1                         1                    7   \n",
       "3                  1                         1                    7   \n",
       "4                  1                         1                    7   \n",
       "\n",
       "   time_in_hospital    ...     citoglipton insulin  glyburide-metformin  \\\n",
       "0                 1    ...              No      No                   No   \n",
       "1                 3    ...              No      Up                   No   \n",
       "2                 2    ...              No      No                   No   \n",
       "3                 2    ...              No      Up                   No   \n",
       "4                 1    ...              No  Steady                   No   \n",
       "\n",
       "   glipizide-metformin  glimepiride-pioglitazone  metformin-rosiglitazone  \\\n",
       "0                   No                        No                       No   \n",
       "1                   No                        No                       No   \n",
       "2                   No                        No                       No   \n",
       "3                   No                        No                       No   \n",
       "4                   No                        No                       No   \n",
       "\n",
       "   metformin-pioglitazone  change diabetesMed readmitted  \n",
       "0                      No      No          No         NO  \n",
       "1                      No      Ch         Yes        >30  \n",
       "2                      No      No         Yes         NO  \n",
       "3                      No      Ch         Yes         NO  \n",
       "4                      No      Ch         Yes         NO  \n",
       "\n",
       "[5 rows x 50 columns]"
      ]
     },
     "execution_count": 3,
     "metadata": {},
     "output_type": "execute_result"
    }
   ],
   "source": [
    "data.head(5)"
   ]
  },
  {
   "cell_type": "code",
   "execution_count": 4,
   "metadata": {
    "collapsed": false
   },
   "outputs": [
    {
     "data": {
      "text/plain": [
       "Index(['encounter_id', 'patient_nbr', 'race', 'gender', 'age', 'weight',\n",
       "       'admission_type_id', 'discharge_disposition_id', 'admission_source_id',\n",
       "       'time_in_hospital', 'payer_code', 'medical_specialty',\n",
       "       'num_lab_procedures', 'num_procedures', 'num_medications',\n",
       "       'number_outpatient', 'number_emergency', 'number_inpatient', 'diag_1',\n",
       "       'diag_2', 'diag_3', 'number_diagnoses', 'max_glu_serum', 'A1Cresult',\n",
       "       'metformin', 'repaglinide', 'nateglinide', 'chlorpropamide',\n",
       "       'glimepiride', 'acetohexamide', 'glipizide', 'glyburide', 'tolbutamide',\n",
       "       'pioglitazone', 'rosiglitazone', 'acarbose', 'miglitol', 'troglitazone',\n",
       "       'tolazamide', 'examide', 'citoglipton', 'insulin',\n",
       "       'glyburide-metformin', 'glipizide-metformin',\n",
       "       'glimepiride-pioglitazone', 'metformin-rosiglitazone',\n",
       "       'metformin-pioglitazone', 'change', 'diabetesMed', 'readmitted'],\n",
       "      dtype='object')"
      ]
     },
     "execution_count": 4,
     "metadata": {},
     "output_type": "execute_result"
    }
   ],
   "source": [
    "data.columns"
   ]
  },
  {
   "cell_type": "code",
   "execution_count": 5,
   "metadata": {
    "collapsed": false
   },
   "outputs": [
    {
     "data": {
      "text/plain": [
       "?            98569\n",
       "[75-100)      1336\n",
       "[50-75)        897\n",
       "[100-125)      625\n",
       "[125-150)      145\n",
       "[25-50)         97\n",
       "[0-25)          48\n",
       "[150-175)       35\n",
       "[175-200)       11\n",
       ">200             3\n",
       "Name: weight, dtype: int64"
      ]
     },
     "execution_count": 5,
     "metadata": {},
     "output_type": "execute_result"
    }
   ],
   "source": [
    "data['weight'].value_counts()"
   ]
  },
  {
   "cell_type": "code",
   "execution_count": 6,
   "metadata": {
    "collapsed": false
   },
   "outputs": [
    {
     "data": {
      "text/plain": [
       "NO     54864\n",
       ">30    35545\n",
       "<30    11357\n",
       "Name: readmitted, dtype: int64"
      ]
     },
     "execution_count": 6,
     "metadata": {},
     "output_type": "execute_result"
    }
   ],
   "source": [
    "data.readmitted.value_counts()"
   ]
  },
  {
   "cell_type": "markdown",
   "metadata": {},
   "source": [
    "# Label Creation & Minority Class Upsample\n",
    "\n",
    "Since on readmission within 30 days from first discharge will count as an readmission and face penalty from CMS, we re-code 'readmitted' variable in to binary with 'NO' and '>30' being 0 and '<30' being 1. \n",
    "\n",
    "We can see from the new created label that there's relatively severe class imblance issue with original data. To avoid loss of information, we prefer to upsample the minority class to tackle class imblance instead of downsampling the majority class. "
   ]
  },
  {
   "cell_type": "code",
   "execution_count": 7,
   "metadata": {
    "collapsed": false
   },
   "outputs": [
    {
     "data": {
      "text/plain": [
       "0.0    90409\n",
       "1.0    11357\n",
       "Name: label, dtype: int64"
      ]
     },
     "execution_count": 7,
     "metadata": {},
     "output_type": "execute_result"
    }
   ],
   "source": [
    "#create label\n",
    "data['label']=np.nan\n",
    "data.loc[(data['readmitted']=='NO')|(data['readmitted']=='>30'),'label']=0\n",
    "data['label']=data['label'].fillna(1)\n",
    "data['label'].value_counts()"
   ]
  },
  {
   "cell_type": "code",
   "execution_count": 8,
   "metadata": {
    "collapsed": false
   },
   "outputs": [
    {
     "data": {
      "text/plain": [
       "0.0    90409\n",
       "1.0    90000\n",
       "Name: label, dtype: int64"
      ]
     },
     "execution_count": 8,
     "metadata": {},
     "output_type": "execute_result"
    }
   ],
   "source": [
    "#upsample minority class\n",
    "from sklearn.utils import resample\n",
    "\n",
    "# Separate majority and minority classes\n",
    "data_ma = data[data.label==0]\n",
    "data_mi = data[data.label==1]\n",
    " \n",
    "# Upsample minority class\n",
    "data_mi_up = resample(data_mi, \n",
    "                   replace=True,     # sample with replacement\n",
    "                   n_samples=90000,    # to match majority class\n",
    "                   random_state=123) # reproducible results\n",
    " \n",
    "# Combine majority class with upsampled minority class\n",
    "data1 = pd.concat([data_ma, data_mi_up])\n",
    " \n",
    "# Display new class counts\n",
    "data1.label.value_counts()\n",
    "\n",
    "#ref.: https://elitedatascience.com/imbalanced-classes"
   ]
  },
  {
   "cell_type": "code",
   "execution_count": 9,
   "metadata": {
    "collapsed": true
   },
   "outputs": [],
   "source": [
    "#after upsampling, need to reset index of data1:\n",
    "data1=data1.reset_index()"
   ]
  },
  {
   "cell_type": "markdown",
   "metadata": {},
   "source": [
    "# EDA\n",
    "\n"
   ]
  },
  {
   "cell_type": "code",
   "execution_count": 10,
   "metadata": {
    "collapsed": false
   },
   "outputs": [],
   "source": [
    "#Since all missing values in original dataset is marked with '?', we reverse it back to np.nan\n",
    "data1=data1.replace('?', np.NaN)"
   ]
  },
  {
   "cell_type": "code",
   "execution_count": 11,
   "metadata": {
    "collapsed": false
   },
   "outputs": [
    {
     "data": {
      "text/plain": [
       "(178703, 52)"
      ]
     },
     "execution_count": 11,
     "metadata": {},
     "output_type": "execute_result"
    }
   ],
   "source": [
    "#rows with missing value check:\n",
    "data1.shape #(215235, 23)\n",
    "nan_rows = lambda df: df[df.isnull().any(axis=1)]\n",
    "nan_rows(data1).shape #many rows have missing value"
   ]
  },
  {
   "cell_type": "code",
   "execution_count": 12,
   "metadata": {
    "collapsed": false
   },
   "outputs": [
    {
     "data": {
      "text/plain": [
       "['race',\n",
       " 'weight',\n",
       " 'payer_code',\n",
       " 'medical_specialty',\n",
       " 'diag_1',\n",
       " 'diag_2',\n",
       " 'diag_3']"
      ]
     },
     "execution_count": 12,
     "metadata": {},
     "output_type": "execute_result"
    }
   ],
   "source": [
    "#colomns with missing value check:\n",
    "nan_cols = lambda df: df.columns[df.isnull().any()].tolist()\n",
    "nan_cols(data1) #columns with missing value"
   ]
  },
  {
   "cell_type": "markdown",
   "metadata": {
    "collapsed": true
   },
   "source": [
    "# Missing Value Imputation\n",
    "\n",
    "['race',\n",
    " 'weight',\n",
    " 'payer_code',\n",
    " 'medical_specialty',\n",
    " 'diag_1',\n",
    " 'diag_2',\n",
    " 'diag_3']\n",
    " \n",
    " All columns with missing value are categorical variables. We impute with mode value"
   ]
  },
  {
   "cell_type": "code",
   "execution_count": 13,
   "metadata": {
    "collapsed": false
   },
   "outputs": [
    {
     "data": {
      "text/plain": [
       "[]"
      ]
     },
     "execution_count": 13,
     "metadata": {},
     "output_type": "execute_result"
    }
   ],
   "source": [
    "impute_with_mode=nan_cols(data1)\n",
    "for col in impute_with_mode:\n",
    "    data1.loc[data1[col].isnull(), col]=data1[col].mode()[0]\n",
    "nan_cols(data1) #cleared"
   ]
  },
  {
   "cell_type": "markdown",
   "metadata": {},
   "source": [
    "# Feature Engineering\n",
    "\n",
    "['encounter_id', 'patient_nbr', 'race', 'gender', 'age', 'weight',\n",
    "       'admission_type_id', 'discharge_disposition_id', 'admission_source_id',\n",
    "       'time_in_hospital', 'payer_code', 'medical_specialty',\n",
    "       'num_lab_procedures', 'num_procedures', 'num_medications',\n",
    "       'number_outpatient', 'number_emergency', 'number_inpatient', 'diag_1',\n",
    "       'diag_2', 'diag_3', 'number_diagnoses', 'max_glu_serum', 'A1Cresult',\n",
    "       'metformin', 'repaglinide', 'nateglinide', 'chlorpropamide',\n",
    "       'glimepiride', 'acetohexamide', 'glipizide', 'glyburide', 'tolbutamide',\n",
    "       'pioglitazone', 'rosiglitazone', 'acarbose', 'miglitol', 'troglitazone',\n",
    "       'tolazamide', 'examide', 'citoglipton', 'insulin',\n",
    "       'glyburide-metformin', 'glipizide-metformin',\n",
    "       'glimepiride-pioglitazone', 'metformin-rosiglitazone',\n",
    "       'metformin-pioglitazone', 'change', 'diabetesMed', 'readmitted']\n",
    "       \n",
    "Feature types:       \n",
    "\n",
    "-multiclass categorical variables: 'race', 'gender', 'age', 'weight','admission_type_id', 'discharge_disposition_id', 'admission_source_id','time_in_hospital','payer_code', 'medical_specialty','max_glu_serum','A1Cresult', 'metformin','repaglinide', 'nateglinide', 'chlorpropamide', 'glimepiride', 'acetohexamide', 'glipizide','glyburide','tolbutamide','pioglitazone','rosiglitazone','acarbose', 'miglitol','troglitazone',\n",
    " 'tolazamide', 'examide', 'citoglipton','insulin','glyburide-metformin', 'glipizide-metformin','glimepiride-pioglitazone',\n",
    " \n",
    "('insulin', no need to regroup levels, 'glimepiride-pioglitazone' dropped)\n",
    "\n",
    "-binary categorical variables:'change','diabetesMed', \n",
    "\n",
    "-numerical variables:'num_lab_procedures', 'num_procedures', 'num_medications','number_outpatient', 'number_emergency', 'number_inpatient','number_diagnoses', \n",
    "\n",
    "-meaning ambiguous variables:'diag_1', 'diag_2', 'diag_3', (consider dropping)\n"
   ]
  },
  {
   "cell_type": "code",
   "execution_count": 14,
   "metadata": {
    "collapsed": false
   },
   "outputs": [
    {
     "data": {
      "text/plain": [
       "No        147013\n",
       "Steady     30625\n",
       "Up          1682\n",
       "Down        1089\n",
       "Name: metformin, dtype: int64"
      ]
     },
     "execution_count": 14,
     "metadata": {},
     "output_type": "execute_result"
    }
   ],
   "source": [
    "data1[ 'metformin'].value_counts()"
   ]
  },
  {
   "cell_type": "code",
   "execution_count": 15,
   "metadata": {
    "collapsed": false
   },
   "outputs": [
    {
     "data": {
      "text/plain": [
       "Female             97399\n",
       "Male               83010\n",
       "Unknown/Invalid        0\n",
       "Name: gender, dtype: int64"
      ]
     },
     "execution_count": 15,
     "metadata": {},
     "output_type": "execute_result"
    }
   ],
   "source": [
    "#gender only has 3 records for 'Unknown', recode to female\n",
    "data1['gender']=data1['gender'].astype('category')\n",
    "data1.loc[data1['gender']=='Unknown/Invalid', 'gender']='Female'\n",
    "data1['gender'].value_counts()"
   ]
  },
  {
   "cell_type": "code",
   "execution_count": 16,
   "metadata": {
    "collapsed": false
   },
   "outputs": [
    {
     "data": {
      "text/plain": [
       "[70-80)     47277\n",
       "[60-70)     39783\n",
       "[80-90)     31565\n",
       "[50-60)     28736\n",
       "[40-50)     16864\n",
       "[30-40)      6761\n",
       "[90-100)     4989\n",
       "[20-30)      3266\n",
       "[0-20)       1168\n",
       "Name: age2, dtype: int64"
      ]
     },
     "execution_count": 16,
     "metadata": {},
     "output_type": "execute_result"
    }
   ],
   "source": [
    "#'age' level [10-20) and [0-10) is minority, we can combine these two into [0-20)\n",
    "data1['age2']=np.nan\n",
    "data1.loc[(data1['age']=='[10-20)')|(data1['age']=='[0-10)'),'age2']='[0-20)'\n",
    "data1.loc[data1['age2'].isnull(),'age2']=data1['age']\n",
    "data1['age2'].value_counts()\n"
   ]
  },
  {
   "cell_type": "code",
   "execution_count": 17,
   "metadata": {
    "collapsed": false
   },
   "outputs": [
    {
     "data": {
      "text/plain": [
       "[75-100)     177064\n",
       "[50-75)        1666\n",
       "[100-125)      1117\n",
       "[125-150)       222\n",
       "[25-50)         157\n",
       "[0-25)          100\n",
       ">=150            83\n",
       "Name: weight2, dtype: int64"
      ]
     },
     "execution_count": 17,
     "metadata": {},
     "output_type": "execute_result"
    }
   ],
   "source": [
    "#'weight' has minority level in high weight, could combine minority levels into one:\n",
    "data1['weight2']=np.nan\n",
    "data1.loc[(data1['weight']=='[150-175)')|(data1['weight']=='[175-200)')|(data1['weight']=='>200'),'weight2']='>=150'\n",
    "data1.loc[data1['weight2'].isnull(),'weight2']=data1['weight']\n",
    "data1['weight2'].value_counts()"
   ]
  },
  {
   "cell_type": "code",
   "execution_count": 18,
   "metadata": {
    "collapsed": false
   },
   "outputs": [
    {
     "data": {
      "text/plain": [
       "1                97065\n",
       "2                32854\n",
       "3                32325\n",
       "Not_Available    18128\n",
       "7                   21\n",
       "4                   16\n",
       "Name: admission_type_id2, dtype: int64"
      ]
     },
     "execution_count": 18,
     "metadata": {},
     "output_type": "execute_result"
    }
   ],
   "source": [
    "#'admission_type_id' level 5,6,8 are all Null or Not Available data, we group them into one 'Not_Available'\n",
    "data1['admission_type_id2']=np.nan\n",
    "data1.loc[(data1['admission_type_id']==5)|(data1['admission_type_id']==6)|(data1['admission_type_id']==8),'admission_type_id2']='Not_Available'\n",
    "data1.loc[data1['admission_type_id2'].isnull(),'admission_type_id2']=data1['admission_type_id']\n",
    "data1['admission_type_id2'].value_counts()"
   ]
  },
  {
   "cell_type": "code",
   "execution_count": 19,
   "metadata": {
    "collapsed": false
   },
   "outputs": [
    {
     "data": {
      "text/plain": [
       "1                99077\n",
       "3                27979\n",
       "6                24465\n",
       "Not_Available     8526\n",
       "22                5820\n",
       "2                 4374\n",
       "5                 2880\n",
       "11                1642\n",
       "4                 1541\n",
       "7                 1232\n",
       "23                 600\n",
       "13                 548\n",
       "14                 537\n",
       "28                 494\n",
       "15                 246\n",
       "8                  203\n",
       "9                   91\n",
       "24                  90\n",
       "12                  18\n",
       "17                  14\n",
       "16                  11\n",
       "19                   8\n",
       "10                   6\n",
       "27                   5\n",
       "20                   2\n",
       "Name: discharge_disposition_id2, dtype: int64"
      ]
     },
     "execution_count": 19,
     "metadata": {},
     "output_type": "execute_result"
    }
   ],
   "source": [
    "#'discharge_disposition_id' level 18,25,26 are all 'Not Available', we group them into one 'Not_Available'\n",
    "data1['discharge_disposition_id2']=np.nan\n",
    "data1.loc[(data1['discharge_disposition_id']==18)|(data1['discharge_disposition_id']==25)|(data1['discharge_disposition_id']==26),'discharge_disposition_id2']='Not_Available'\n",
    "data1.loc[data1['discharge_disposition_id2'].isnull(),'discharge_disposition_id2']=data1['discharge_disposition_id']\n",
    "data1['discharge_disposition_id2'].value_counts()"
   ]
  },
  {
   "cell_type": "code",
   "execution_count": 20,
   "metadata": {
    "collapsed": false
   },
   "outputs": [
    {
     "data": {
      "text/plain": [
       "1                99077\n",
       "3                27979\n",
       "6                24465\n",
       "Not_Available     8526\n",
       "22                5820\n",
       "2                 4374\n",
       "5                 2880\n",
       "Other             2873\n",
       "11                1642\n",
       "4                 1541\n",
       "7                 1232\n",
       "Name: discharge_disposition_id2, dtype: int64"
      ]
     },
     "execution_count": 20,
     "metadata": {},
     "output_type": "execute_result"
    }
   ],
   "source": [
    "#'discharge_disposition_id' also level frequency elbow drop at frequency level=1200, \n",
    "#we group level with frequency below 1200 into 1 level\n",
    "levels_to_group = pd.DataFrame(data1['discharge_disposition_id2'].value_counts()[\n",
    "        data1['discharge_disposition_id2'].value_counts()<1200]).index.tolist()\n",
    "for level in levels_to_group:\n",
    "    data1.loc[data1['discharge_disposition_id2']==level,'discharge_disposition_id2']='Other'\n",
    "data1['discharge_disposition_id2'].value_counts()"
   ]
  },
  {
   "cell_type": "code",
   "execution_count": 21,
   "metadata": {
    "collapsed": false
   },
   "outputs": [
    {
     "data": {
      "text/plain": [
       "7                104173\n",
       "1                 51029\n",
       "Not_Available     12230\n",
       "4                  5352\n",
       "6                  3753\n",
       "2                  1900\n",
       "5                  1506\n",
       "3                   403\n",
       "8                    25\n",
       "22                   23\n",
       "10                    8\n",
       "25                    2\n",
       "14                    2\n",
       "11                    2\n",
       "13                    1\n",
       "Name: admission_source_id2, dtype: int64"
      ]
     },
     "execution_count": 21,
     "metadata": {},
     "output_type": "execute_result"
    }
   ],
   "source": [
    "#'admission_source_id' has levels 9,15,17,20,21 all equal to 'Not_Available', we group them into one level\n",
    "data1['admission_source_id2']=data1['admission_source_id']\n",
    "levels_to_group = [9,15,17,20,21]\n",
    "for level in levels_to_group:\n",
    "    data1.loc[data1['admission_source_id2']==level,'admission_source_id2']='Not_Available'\n",
    "data1['admission_source_id2'].value_counts()"
   ]
  },
  {
   "cell_type": "code",
   "execution_count": 22,
   "metadata": {
    "collapsed": false
   },
   "outputs": [
    {
     "data": {
      "text/plain": [
       "7                104173\n",
       "1                 51029\n",
       "Not_Available     12230\n",
       "4                  5352\n",
       "6                  3753\n",
       "2                  1900\n",
       "5                  1506\n",
       "Other               466\n",
       "Name: admission_source_id2, dtype: int64"
      ]
     },
     "execution_count": 22,
     "metadata": {},
     "output_type": "execute_result"
    }
   ],
   "source": [
    "#'admission_source_id' also has level frequency elbow drop at frequency level=1500, we group level with frequency below 1500 into 1 level\n",
    "levels_to_group = pd.DataFrame(data1['admission_source_id2'].value_counts()[\n",
    "        data1['admission_source_id2'].value_counts()<1200]).index.tolist()\n",
    "for level in levels_to_group:\n",
    "    data1.loc[data1['admission_source_id2']==level,'admission_source_id2']='Other'\n",
    "data1['admission_source_id2'].value_counts()"
   ]
  },
  {
   "cell_type": "code",
   "execution_count": 23,
   "metadata": {
    "collapsed": false
   },
   "outputs": [
    {
     "data": {
      "text/plain": [
       "3     30987\n",
       "2     29096\n",
       "4     25177\n",
       "1     22266\n",
       "9+    20829\n",
       "5     18219\n",
       "6     14029\n",
       "7     11037\n",
       "8      8769\n",
       "Name: time_in_hospital2, dtype: int64"
      ]
     },
     "execution_count": 23,
     "metadata": {},
     "output_type": "execute_result"
    }
   ],
   "source": [
    "# 'time_in_hospital' has multiple levels, regroup minority levels into one level:\n",
    "data1['time_in_hospital2']=data1['time_in_hospital']\n",
    "levels_to_group = [9,10,11,12,13,14]\n",
    "for level in levels_to_group:\n",
    "    data1.loc[data1['time_in_hospital2']==level,'time_in_hospital2']='9+'\n",
    "data1['time_in_hospital2'].value_counts()"
   ]
  },
  {
   "cell_type": "code",
   "execution_count": 24,
   "metadata": {
    "collapsed": false
   },
   "outputs": [
    {
     "data": {
      "text/plain": [
       "MC       131350\n",
       "Other     15946\n",
       "HM        10734\n",
       "SP         8490\n",
       "BC         7525\n",
       "MD         6364\n",
       "Name: payer_code2, dtype: int64"
      ]
     },
     "execution_count": 24,
     "metadata": {},
     "output_type": "execute_result"
    }
   ],
   "source": [
    "#group minority levels into one level\n",
    "data1['payer_code'].value_counts()\n",
    "data1['payer_code2']=data1['payer_code']\n",
    "levels_to_group = pd.DataFrame(data1['payer_code2'].value_counts()[\n",
    "        data1['payer_code2'].value_counts()<5000]).index.tolist()\n",
    "for level in levels_to_group:\n",
    "    data1.loc[data1['payer_code2']==level,'payer_code2']='Other'\n",
    "data1['payer_code2'].value_counts()"
   ]
  },
  {
   "cell_type": "code",
   "execution_count": 25,
   "metadata": {
    "collapsed": false
   },
   "outputs": [
    {
     "data": {
      "text/plain": [
       "InternalMedicine          116189\n",
       "Other                      23594\n",
       "Family/GeneralPractice     13547\n",
       "Emergency/Trauma           13386\n",
       "Cardiology                  8169\n",
       "Surgery-General             5524\n",
       "Name: medical_specialty2, dtype: int64"
      ]
     },
     "execution_count": 25,
     "metadata": {},
     "output_type": "execute_result"
    }
   ],
   "source": [
    "#group minority levels into one level\n",
    "data1['medical_specialty'].value_counts()\n",
    "data1['medical_specialty2']=data1['medical_specialty']\n",
    "levels_to_group = pd.DataFrame(data1['medical_specialty2'].value_counts()[\n",
    "        data1['medical_specialty2'].value_counts()<5000]).index.tolist()\n",
    "for level in levels_to_group:\n",
    "    data1.loc[data1['medical_specialty2']==level,'medical_specialty2']='Other'\n",
    "data1['medical_specialty2'].value_counts()"
   ]
  },
  {
   "cell_type": "code",
   "execution_count": 26,
   "metadata": {
    "collapsed": false
   },
   "outputs": [
    {
     "data": {
      "text/html": [
       "<div>\n",
       "<style scoped>\n",
       "    .dataframe tbody tr th:only-of-type {\n",
       "        vertical-align: middle;\n",
       "    }\n",
       "\n",
       "    .dataframe tbody tr th {\n",
       "        vertical-align: top;\n",
       "    }\n",
       "\n",
       "    .dataframe thead th {\n",
       "        text-align: right;\n",
       "    }\n",
       "</style>\n",
       "<table border=\"1\" class=\"dataframe\">\n",
       "  <thead>\n",
       "    <tr style=\"text-align: right;\">\n",
       "      <th></th>\n",
       "      <th>metformin2</th>\n",
       "      <th>repaglinide2</th>\n",
       "      <th>nateglinide2</th>\n",
       "      <th>chlorpropamide2</th>\n",
       "      <th>glimepiride2</th>\n",
       "      <th>acetohexamide2</th>\n",
       "      <th>glipizide2</th>\n",
       "      <th>glyburide2</th>\n",
       "      <th>tolbutamide2</th>\n",
       "      <th>pioglitazone2</th>\n",
       "      <th>...</th>\n",
       "      <th>acarbose2</th>\n",
       "      <th>miglitol2</th>\n",
       "      <th>troglitazone2</th>\n",
       "      <th>tolazamide2</th>\n",
       "      <th>examide2</th>\n",
       "      <th>citoglipton2</th>\n",
       "      <th>insulin2</th>\n",
       "      <th>glyburide-metformin2</th>\n",
       "      <th>glipizide-metformin2</th>\n",
       "      <th>glimepiride-pioglitazone2</th>\n",
       "    </tr>\n",
       "  </thead>\n",
       "  <tbody>\n",
       "    <tr>\n",
       "      <th>0</th>\n",
       "      <td>No</td>\n",
       "      <td>No</td>\n",
       "      <td>No</td>\n",
       "      <td>No</td>\n",
       "      <td>No</td>\n",
       "      <td>No</td>\n",
       "      <td>No</td>\n",
       "      <td>No</td>\n",
       "      <td>No</td>\n",
       "      <td>No</td>\n",
       "      <td>...</td>\n",
       "      <td>No</td>\n",
       "      <td>No</td>\n",
       "      <td>No</td>\n",
       "      <td>No</td>\n",
       "      <td>No</td>\n",
       "      <td>No</td>\n",
       "      <td>No</td>\n",
       "      <td>No</td>\n",
       "      <td>No</td>\n",
       "      <td>No</td>\n",
       "    </tr>\n",
       "    <tr>\n",
       "      <th>1</th>\n",
       "      <td>No</td>\n",
       "      <td>No</td>\n",
       "      <td>No</td>\n",
       "      <td>No</td>\n",
       "      <td>No</td>\n",
       "      <td>No</td>\n",
       "      <td>No</td>\n",
       "      <td>No</td>\n",
       "      <td>No</td>\n",
       "      <td>No</td>\n",
       "      <td>...</td>\n",
       "      <td>No</td>\n",
       "      <td>No</td>\n",
       "      <td>No</td>\n",
       "      <td>No</td>\n",
       "      <td>No</td>\n",
       "      <td>No</td>\n",
       "      <td>Yes</td>\n",
       "      <td>No</td>\n",
       "      <td>No</td>\n",
       "      <td>No</td>\n",
       "    </tr>\n",
       "    <tr>\n",
       "      <th>2</th>\n",
       "      <td>No</td>\n",
       "      <td>No</td>\n",
       "      <td>No</td>\n",
       "      <td>No</td>\n",
       "      <td>No</td>\n",
       "      <td>No</td>\n",
       "      <td>Yes</td>\n",
       "      <td>No</td>\n",
       "      <td>No</td>\n",
       "      <td>No</td>\n",
       "      <td>...</td>\n",
       "      <td>No</td>\n",
       "      <td>No</td>\n",
       "      <td>No</td>\n",
       "      <td>No</td>\n",
       "      <td>No</td>\n",
       "      <td>No</td>\n",
       "      <td>No</td>\n",
       "      <td>No</td>\n",
       "      <td>No</td>\n",
       "      <td>No</td>\n",
       "    </tr>\n",
       "    <tr>\n",
       "      <th>3</th>\n",
       "      <td>No</td>\n",
       "      <td>No</td>\n",
       "      <td>No</td>\n",
       "      <td>No</td>\n",
       "      <td>No</td>\n",
       "      <td>No</td>\n",
       "      <td>No</td>\n",
       "      <td>No</td>\n",
       "      <td>No</td>\n",
       "      <td>No</td>\n",
       "      <td>...</td>\n",
       "      <td>No</td>\n",
       "      <td>No</td>\n",
       "      <td>No</td>\n",
       "      <td>No</td>\n",
       "      <td>No</td>\n",
       "      <td>No</td>\n",
       "      <td>Yes</td>\n",
       "      <td>No</td>\n",
       "      <td>No</td>\n",
       "      <td>No</td>\n",
       "    </tr>\n",
       "    <tr>\n",
       "      <th>4</th>\n",
       "      <td>No</td>\n",
       "      <td>No</td>\n",
       "      <td>No</td>\n",
       "      <td>No</td>\n",
       "      <td>No</td>\n",
       "      <td>No</td>\n",
       "      <td>Yes</td>\n",
       "      <td>No</td>\n",
       "      <td>No</td>\n",
       "      <td>No</td>\n",
       "      <td>...</td>\n",
       "      <td>No</td>\n",
       "      <td>No</td>\n",
       "      <td>No</td>\n",
       "      <td>No</td>\n",
       "      <td>No</td>\n",
       "      <td>No</td>\n",
       "      <td>Yes</td>\n",
       "      <td>No</td>\n",
       "      <td>No</td>\n",
       "      <td>No</td>\n",
       "    </tr>\n",
       "    <tr>\n",
       "      <th>5</th>\n",
       "      <td>No</td>\n",
       "      <td>No</td>\n",
       "      <td>No</td>\n",
       "      <td>No</td>\n",
       "      <td>No</td>\n",
       "      <td>No</td>\n",
       "      <td>No</td>\n",
       "      <td>No</td>\n",
       "      <td>No</td>\n",
       "      <td>No</td>\n",
       "      <td>...</td>\n",
       "      <td>No</td>\n",
       "      <td>No</td>\n",
       "      <td>No</td>\n",
       "      <td>No</td>\n",
       "      <td>No</td>\n",
       "      <td>No</td>\n",
       "      <td>Yes</td>\n",
       "      <td>No</td>\n",
       "      <td>No</td>\n",
       "      <td>No</td>\n",
       "    </tr>\n",
       "    <tr>\n",
       "      <th>6</th>\n",
       "      <td>Yes</td>\n",
       "      <td>No</td>\n",
       "      <td>No</td>\n",
       "      <td>No</td>\n",
       "      <td>Yes</td>\n",
       "      <td>No</td>\n",
       "      <td>No</td>\n",
       "      <td>No</td>\n",
       "      <td>No</td>\n",
       "      <td>No</td>\n",
       "      <td>...</td>\n",
       "      <td>No</td>\n",
       "      <td>No</td>\n",
       "      <td>No</td>\n",
       "      <td>No</td>\n",
       "      <td>No</td>\n",
       "      <td>No</td>\n",
       "      <td>Yes</td>\n",
       "      <td>No</td>\n",
       "      <td>No</td>\n",
       "      <td>No</td>\n",
       "    </tr>\n",
       "    <tr>\n",
       "      <th>7</th>\n",
       "      <td>No</td>\n",
       "      <td>No</td>\n",
       "      <td>No</td>\n",
       "      <td>No</td>\n",
       "      <td>No</td>\n",
       "      <td>No</td>\n",
       "      <td>No</td>\n",
       "      <td>Yes</td>\n",
       "      <td>No</td>\n",
       "      <td>No</td>\n",
       "      <td>...</td>\n",
       "      <td>No</td>\n",
       "      <td>No</td>\n",
       "      <td>No</td>\n",
       "      <td>No</td>\n",
       "      <td>No</td>\n",
       "      <td>No</td>\n",
       "      <td>No</td>\n",
       "      <td>No</td>\n",
       "      <td>No</td>\n",
       "      <td>No</td>\n",
       "    </tr>\n",
       "    <tr>\n",
       "      <th>8</th>\n",
       "      <td>No</td>\n",
       "      <td>No</td>\n",
       "      <td>No</td>\n",
       "      <td>No</td>\n",
       "      <td>No</td>\n",
       "      <td>No</td>\n",
       "      <td>Yes</td>\n",
       "      <td>No</td>\n",
       "      <td>No</td>\n",
       "      <td>No</td>\n",
       "      <td>...</td>\n",
       "      <td>No</td>\n",
       "      <td>No</td>\n",
       "      <td>No</td>\n",
       "      <td>No</td>\n",
       "      <td>No</td>\n",
       "      <td>No</td>\n",
       "      <td>Yes</td>\n",
       "      <td>No</td>\n",
       "      <td>No</td>\n",
       "      <td>No</td>\n",
       "    </tr>\n",
       "    <tr>\n",
       "      <th>9</th>\n",
       "      <td>No</td>\n",
       "      <td>No</td>\n",
       "      <td>No</td>\n",
       "      <td>No</td>\n",
       "      <td>No</td>\n",
       "      <td>No</td>\n",
       "      <td>No</td>\n",
       "      <td>No</td>\n",
       "      <td>No</td>\n",
       "      <td>No</td>\n",
       "      <td>...</td>\n",
       "      <td>No</td>\n",
       "      <td>No</td>\n",
       "      <td>No</td>\n",
       "      <td>No</td>\n",
       "      <td>No</td>\n",
       "      <td>No</td>\n",
       "      <td>Yes</td>\n",
       "      <td>No</td>\n",
       "      <td>No</td>\n",
       "      <td>No</td>\n",
       "    </tr>\n",
       "  </tbody>\n",
       "</table>\n",
       "<p>10 rows × 21 columns</p>\n",
       "</div>"
      ],
      "text/plain": [
       "  metformin2 repaglinide2 nateglinide2 chlorpropamide2 glimepiride2  \\\n",
       "0         No           No           No              No           No   \n",
       "1         No           No           No              No           No   \n",
       "2         No           No           No              No           No   \n",
       "3         No           No           No              No           No   \n",
       "4         No           No           No              No           No   \n",
       "5         No           No           No              No           No   \n",
       "6        Yes           No           No              No          Yes   \n",
       "7         No           No           No              No           No   \n",
       "8         No           No           No              No           No   \n",
       "9         No           No           No              No           No   \n",
       "\n",
       "  acetohexamide2 glipizide2 glyburide2 tolbutamide2 pioglitazone2  \\\n",
       "0             No         No         No           No            No   \n",
       "1             No         No         No           No            No   \n",
       "2             No        Yes         No           No            No   \n",
       "3             No         No         No           No            No   \n",
       "4             No        Yes         No           No            No   \n",
       "5             No         No         No           No            No   \n",
       "6             No         No         No           No            No   \n",
       "7             No         No        Yes           No            No   \n",
       "8             No        Yes         No           No            No   \n",
       "9             No         No         No           No            No   \n",
       "\n",
       "             ...            acarbose2 miglitol2 troglitazone2 tolazamide2  \\\n",
       "0            ...                   No        No            No          No   \n",
       "1            ...                   No        No            No          No   \n",
       "2            ...                   No        No            No          No   \n",
       "3            ...                   No        No            No          No   \n",
       "4            ...                   No        No            No          No   \n",
       "5            ...                   No        No            No          No   \n",
       "6            ...                   No        No            No          No   \n",
       "7            ...                   No        No            No          No   \n",
       "8            ...                   No        No            No          No   \n",
       "9            ...                   No        No            No          No   \n",
       "\n",
       "  examide2 citoglipton2 insulin2 glyburide-metformin2 glipizide-metformin2  \\\n",
       "0       No           No       No                   No                   No   \n",
       "1       No           No      Yes                   No                   No   \n",
       "2       No           No       No                   No                   No   \n",
       "3       No           No      Yes                   No                   No   \n",
       "4       No           No      Yes                   No                   No   \n",
       "5       No           No      Yes                   No                   No   \n",
       "6       No           No      Yes                   No                   No   \n",
       "7       No           No       No                   No                   No   \n",
       "8       No           No      Yes                   No                   No   \n",
       "9       No           No      Yes                   No                   No   \n",
       "\n",
       "  glimepiride-pioglitazone2  \n",
       "0                        No  \n",
       "1                        No  \n",
       "2                        No  \n",
       "3                        No  \n",
       "4                        No  \n",
       "5                        No  \n",
       "6                        No  \n",
       "7                        No  \n",
       "8                        No  \n",
       "9                        No  \n",
       "\n",
       "[10 rows x 21 columns]"
      ]
     },
     "execution_count": 26,
     "metadata": {},
     "output_type": "execute_result"
    }
   ],
   "source": [
    "#recode diebetes drug prescription related variables into two levels: Yes and No\n",
    "prescriptions_to_recode=['metformin','repaglinide', 'nateglinide', 'chlorpropamide', 'glimepiride', 'acetohexamide', 'glipizide','glyburide',\n",
    "'tolbutamide','pioglitazone','rosiglitazone','acarbose', 'miglitol','troglitazone', 'tolazamide', 'examide', \n",
    "'citoglipton','insulin','glyburide-metformin', 'glipizide-metformin','glimepiride-pioglitazone']\n",
    "#leave out 'insulin' and drop 'glimepiride-pioglitazone' due to low variety\n",
    "for var in prescriptions_to_recode:\n",
    "    data1[var+'2']=data1[var]\n",
    "    data1.loc[data1[var+'2']!='No', var+'2']='Yes'\n",
    "#check recoded variables:    \n",
    "recoded_prescriptions=[var+'2' for var in prescriptions_to_recode]\n",
    "data1[recoded_prescriptions].head(10)"
   ]
  },
  {
   "cell_type": "markdown",
   "metadata": {},
   "source": [
    "## Onehot Encode Categorical Variables\n",
    "\n",
    "-multiclass categorical variables: 'race', 'gender', 'age', 'weight','admission_type_id', 'discharge_disposition_id', 'admission_source_id','time_in_hospital','payer_code', 'medical_specialty','max_glu_serum','A1Cresult', 'metformin','repaglinide', 'nateglinide', 'chlorpropamide', 'glimepiride', 'acetohexamide', 'glipizide','glyburide','tolbutamide','pioglitazone','rosiglitazone','acarbose', 'miglitol','troglitazone',\n",
    " 'tolazamide', 'examide', 'citoglipton','insulin','glyburide-metformin', 'glipizide-metformin','glimepiride-pioglitazone',\n"
   ]
  },
  {
   "cell_type": "code",
   "execution_count": 27,
   "metadata": {
    "collapsed": false
   },
   "outputs": [
    {
     "data": {
      "text/plain": [
       "Index(['index', 'encounter_id', 'patient_nbr', 'race', 'gender', 'age',\n",
       "       'weight', 'admission_type_id', 'discharge_disposition_id',\n",
       "       'admission_source_id', 'time_in_hospital', 'payer_code',\n",
       "       'medical_specialty', 'num_lab_procedures', 'num_procedures',\n",
       "       'num_medications', 'number_outpatient', 'number_emergency',\n",
       "       'number_inpatient', 'diag_1', 'diag_2', 'diag_3', 'number_diagnoses',\n",
       "       'max_glu_serum', 'A1Cresult', 'metformin', 'repaglinide', 'nateglinide',\n",
       "       'chlorpropamide', 'glimepiride', 'acetohexamide', 'glipizide',\n",
       "       'glyburide', 'tolbutamide', 'pioglitazone', 'rosiglitazone', 'acarbose',\n",
       "       'miglitol', 'troglitazone', 'tolazamide', 'examide', 'citoglipton',\n",
       "       'insulin', 'glyburide-metformin', 'glipizide-metformin',\n",
       "       'glimepiride-pioglitazone', 'metformin-rosiglitazone',\n",
       "       'metformin-pioglitazone', 'change', 'diabetesMed', 'readmitted',\n",
       "       'label', 'age2', 'weight2', 'admission_type_id2',\n",
       "       'discharge_disposition_id2', 'admission_source_id2',\n",
       "       'time_in_hospital2', 'payer_code2', 'medical_specialty2', 'metformin2',\n",
       "       'repaglinide2', 'nateglinide2', 'chlorpropamide2', 'glimepiride2',\n",
       "       'acetohexamide2', 'glipizide2', 'glyburide2', 'tolbutamide2',\n",
       "       'pioglitazone2', 'rosiglitazone2', 'acarbose2', 'miglitol2',\n",
       "       'troglitazone2', 'tolazamide2', 'examide2', 'citoglipton2', 'insulin2',\n",
       "       'glyburide-metformin2', 'glipizide-metformin2',\n",
       "       'glimepiride-pioglitazone2'],\n",
       "      dtype='object')"
      ]
     },
     "execution_count": 27,
     "metadata": {},
     "output_type": "execute_result"
    }
   ],
   "source": [
    "data1.columns #data1['discharge_disposition_id2']"
   ]
  },
  {
   "cell_type": "code",
   "execution_count": 28,
   "metadata": {
    "collapsed": false
   },
   "outputs": [
    {
     "data": {
      "text/plain": [
       "['race_AfricanAmerican',\n",
       " 'race_Asian',\n",
       " 'race_Caucasian',\n",
       " 'race_Hispanic',\n",
       " 'race_Other',\n",
       " 'gender_Female',\n",
       " 'gender_Male',\n",
       " 'gender_Unknown/Invalid',\n",
       " 'age2_[0-20)',\n",
       " 'age2_[20-30)',\n",
       " 'age2_[30-40)',\n",
       " 'age2_[40-50)',\n",
       " 'age2_[50-60)',\n",
       " 'age2_[60-70)',\n",
       " 'age2_[70-80)',\n",
       " 'age2_[80-90)',\n",
       " 'age2_[90-100)',\n",
       " 'weight2_>=150',\n",
       " 'weight2_[0-25)',\n",
       " 'weight2_[100-125)',\n",
       " 'weight2_[125-150)',\n",
       " 'weight2_[25-50)',\n",
       " 'weight2_[50-75)',\n",
       " 'weight2_[75-100)',\n",
       " 'admission_type_id2_1',\n",
       " 'admission_type_id2_2',\n",
       " 'admission_type_id2_3',\n",
       " 'admission_type_id2_4',\n",
       " 'admission_type_id2_7',\n",
       " 'admission_type_id2_Not_Available',\n",
       " 'discharge_disposition_id2_1',\n",
       " 'discharge_disposition_id2_2',\n",
       " 'discharge_disposition_id2_3',\n",
       " 'discharge_disposition_id2_4',\n",
       " 'discharge_disposition_id2_5',\n",
       " 'discharge_disposition_id2_6',\n",
       " 'discharge_disposition_id2_7',\n",
       " 'discharge_disposition_id2_11',\n",
       " 'discharge_disposition_id2_22',\n",
       " 'discharge_disposition_id2_Not_Available',\n",
       " 'discharge_disposition_id2_Other',\n",
       " 'admission_source_id2_1',\n",
       " 'admission_source_id2_2',\n",
       " 'admission_source_id2_4',\n",
       " 'admission_source_id2_5',\n",
       " 'admission_source_id2_6',\n",
       " 'admission_source_id2_7',\n",
       " 'admission_source_id2_Not_Available',\n",
       " 'admission_source_id2_Other',\n",
       " 'payer_code2_BC',\n",
       " 'payer_code2_HM',\n",
       " 'payer_code2_MC',\n",
       " 'payer_code2_MD',\n",
       " 'payer_code2_Other',\n",
       " 'payer_code2_SP',\n",
       " 'medical_specialty2_Cardiology',\n",
       " 'medical_specialty2_Emergency/Trauma',\n",
       " 'medical_specialty2_Family/GeneralPractice',\n",
       " 'medical_specialty2_InternalMedicine',\n",
       " 'medical_specialty2_Other',\n",
       " 'medical_specialty2_Surgery-General',\n",
       " 'max_glu_serum_>200',\n",
       " 'max_glu_serum_>300',\n",
       " 'max_glu_serum_None',\n",
       " 'max_glu_serum_Norm',\n",
       " 'A1Cresult_>7',\n",
       " 'A1Cresult_>8',\n",
       " 'A1Cresult_None',\n",
       " 'A1Cresult_Norm',\n",
       " 'metformin2_No',\n",
       " 'metformin2_Yes',\n",
       " 'repaglinide2_No',\n",
       " 'repaglinide2_Yes',\n",
       " 'nateglinide2_No',\n",
       " 'nateglinide2_Yes',\n",
       " 'chlorpropamide2_No',\n",
       " 'chlorpropamide2_Yes',\n",
       " 'glimepiride2_No',\n",
       " 'glimepiride2_Yes',\n",
       " 'acetohexamide2_No',\n",
       " 'acetohexamide2_Yes',\n",
       " 'glipizide2_No',\n",
       " 'glipizide2_Yes',\n",
       " 'glyburide2_No',\n",
       " 'glyburide2_Yes',\n",
       " 'tolbutamide2_No',\n",
       " 'tolbutamide2_Yes',\n",
       " 'pioglitazone2_No',\n",
       " 'pioglitazone2_Yes',\n",
       " 'rosiglitazone2_No',\n",
       " 'rosiglitazone2_Yes',\n",
       " 'acarbose2_No',\n",
       " 'acarbose2_Yes',\n",
       " 'miglitol2_No',\n",
       " 'miglitol2_Yes',\n",
       " 'troglitazone2_No',\n",
       " 'troglitazone2_Yes',\n",
       " 'tolazamide2_No',\n",
       " 'tolazamide2_Yes',\n",
       " 'examide2_No',\n",
       " 'citoglipton2_No',\n",
       " 'insulin2_No',\n",
       " 'insulin2_Yes',\n",
       " 'glyburide-metformin2_No',\n",
       " 'glyburide-metformin2_Yes',\n",
       " 'glipizide-metformin2_No',\n",
       " 'glipizide-metformin2_Yes',\n",
       " 'glimepiride-pioglitazone2_No',\n",
       " 'glimepiride-pioglitazone2_Yes']"
      ]
     },
     "execution_count": 28,
     "metadata": {},
     "output_type": "execute_result"
    }
   ],
   "source": [
    "cols_to_onehot=['race', 'gender', 'age2', 'weight2','admission_type_id2', 'discharge_disposition_id2', 'admission_source_id2',\n",
    "               'payer_code2', 'medical_specialty2','max_glu_serum','A1Cresult']+recoded_prescriptions  #'time_in_hospital2',\n",
    "onehotencoded=pd.get_dummies(data1[cols_to_onehot], prefix=cols_to_onehot)\n",
    "onehotencoded.columns.tolist()\n"
   ]
  },
  {
   "cell_type": "markdown",
   "metadata": {},
   "source": [
    "## Normalize Numeric Variables\n"
   ]
  },
  {
   "cell_type": "code",
   "execution_count": 29,
   "metadata": {
    "collapsed": true
   },
   "outputs": [],
   "source": [
    "cols_to_norm = ['num_lab_procedures', 'num_procedures', 'num_medications','number_outpatient', 'number_emergency', \n",
    "                'number_inpatient','number_diagnoses','time_in_hospital']\n",
    "data1[cols_to_norm] = data1[cols_to_norm].apply(lambda x: (x - x.min()) / (x.max() - x.min()))"
   ]
  },
  {
   "cell_type": "code",
   "execution_count": 30,
   "metadata": {
    "collapsed": false
   },
   "outputs": [
    {
     "data": {
      "text/html": [
       "<div>\n",
       "<style scoped>\n",
       "    .dataframe tbody tr th:only-of-type {\n",
       "        vertical-align: middle;\n",
       "    }\n",
       "\n",
       "    .dataframe tbody tr th {\n",
       "        vertical-align: top;\n",
       "    }\n",
       "\n",
       "    .dataframe thead th {\n",
       "        text-align: right;\n",
       "    }\n",
       "</style>\n",
       "<table border=\"1\" class=\"dataframe\">\n",
       "  <thead>\n",
       "    <tr style=\"text-align: right;\">\n",
       "      <th></th>\n",
       "      <th>num_lab_procedures</th>\n",
       "      <th>num_procedures</th>\n",
       "      <th>num_medications</th>\n",
       "      <th>number_outpatient</th>\n",
       "      <th>number_emergency</th>\n",
       "      <th>number_inpatient</th>\n",
       "      <th>number_diagnoses</th>\n",
       "      <th>time_in_hospital</th>\n",
       "    </tr>\n",
       "  </thead>\n",
       "  <tbody>\n",
       "    <tr>\n",
       "      <th>count</th>\n",
       "      <td>180409.000000</td>\n",
       "      <td>180409.000000</td>\n",
       "      <td>180409.000000</td>\n",
       "      <td>180409.000000</td>\n",
       "      <td>180409.000000</td>\n",
       "      <td>180409.000000</td>\n",
       "      <td>180409.000000</td>\n",
       "      <td>180409.000000</td>\n",
       "    </tr>\n",
       "    <tr>\n",
       "      <th>mean</th>\n",
       "      <td>0.325109</td>\n",
       "      <td>0.219979</td>\n",
       "      <td>0.192805</td>\n",
       "      <td>0.009469</td>\n",
       "      <td>0.003481</td>\n",
       "      <td>0.042371</td>\n",
       "      <td>0.436200</td>\n",
       "      <td>0.273806</td>\n",
       "    </tr>\n",
       "    <tr>\n",
       "      <th>std</th>\n",
       "      <td>0.148977</td>\n",
       "      <td>0.279980</td>\n",
       "      <td>0.101812</td>\n",
       "      <td>0.030256</td>\n",
       "      <td>0.015337</td>\n",
       "      <td>0.077270</td>\n",
       "      <td>0.124617</td>\n",
       "      <td>0.231683</td>\n",
       "    </tr>\n",
       "    <tr>\n",
       "      <th>min</th>\n",
       "      <td>0.000000</td>\n",
       "      <td>0.000000</td>\n",
       "      <td>0.000000</td>\n",
       "      <td>0.000000</td>\n",
       "      <td>0.000000</td>\n",
       "      <td>0.000000</td>\n",
       "      <td>0.000000</td>\n",
       "      <td>0.000000</td>\n",
       "    </tr>\n",
       "    <tr>\n",
       "      <th>25%</th>\n",
       "      <td>0.236641</td>\n",
       "      <td>0.000000</td>\n",
       "      <td>0.125000</td>\n",
       "      <td>0.000000</td>\n",
       "      <td>0.000000</td>\n",
       "      <td>0.000000</td>\n",
       "      <td>0.333333</td>\n",
       "      <td>0.076923</td>\n",
       "    </tr>\n",
       "    <tr>\n",
       "      <th>50%</th>\n",
       "      <td>0.335878</td>\n",
       "      <td>0.166667</td>\n",
       "      <td>0.175000</td>\n",
       "      <td>0.000000</td>\n",
       "      <td>0.000000</td>\n",
       "      <td>0.000000</td>\n",
       "      <td>0.533333</td>\n",
       "      <td>0.230769</td>\n",
       "    </tr>\n",
       "    <tr>\n",
       "      <th>75%</th>\n",
       "      <td>0.427481</td>\n",
       "      <td>0.333333</td>\n",
       "      <td>0.250000</td>\n",
       "      <td>0.000000</td>\n",
       "      <td>0.000000</td>\n",
       "      <td>0.047619</td>\n",
       "      <td>0.533333</td>\n",
       "      <td>0.384615</td>\n",
       "    </tr>\n",
       "    <tr>\n",
       "      <th>max</th>\n",
       "      <td>1.000000</td>\n",
       "      <td>1.000000</td>\n",
       "      <td>1.000000</td>\n",
       "      <td>1.000000</td>\n",
       "      <td>1.000000</td>\n",
       "      <td>1.000000</td>\n",
       "      <td>1.000000</td>\n",
       "      <td>1.000000</td>\n",
       "    </tr>\n",
       "  </tbody>\n",
       "</table>\n",
       "</div>"
      ],
      "text/plain": [
       "       num_lab_procedures  num_procedures  num_medications  number_outpatient  \\\n",
       "count       180409.000000   180409.000000    180409.000000      180409.000000   \n",
       "mean             0.325109        0.219979         0.192805           0.009469   \n",
       "std              0.148977        0.279980         0.101812           0.030256   \n",
       "min              0.000000        0.000000         0.000000           0.000000   \n",
       "25%              0.236641        0.000000         0.125000           0.000000   \n",
       "50%              0.335878        0.166667         0.175000           0.000000   \n",
       "75%              0.427481        0.333333         0.250000           0.000000   \n",
       "max              1.000000        1.000000         1.000000           1.000000   \n",
       "\n",
       "       number_emergency  number_inpatient  number_diagnoses  time_in_hospital  \n",
       "count     180409.000000     180409.000000     180409.000000     180409.000000  \n",
       "mean           0.003481          0.042371          0.436200          0.273806  \n",
       "std            0.015337          0.077270          0.124617          0.231683  \n",
       "min            0.000000          0.000000          0.000000          0.000000  \n",
       "25%            0.000000          0.000000          0.333333          0.076923  \n",
       "50%            0.000000          0.000000          0.533333          0.230769  \n",
       "75%            0.000000          0.047619          0.533333          0.384615  \n",
       "max            1.000000          1.000000          1.000000          1.000000  "
      ]
     },
     "execution_count": 30,
     "metadata": {},
     "output_type": "execute_result"
    }
   ],
   "source": [
    "data1[cols_to_norm].describe()"
   ]
  },
  {
   "cell_type": "markdown",
   "metadata": {},
   "source": [
    "## Feature Selection"
   ]
  },
  {
   "cell_type": "code",
   "execution_count": 31,
   "metadata": {
    "collapsed": false
   },
   "outputs": [
    {
     "data": {
      "text/plain": [
       "['num_lab_procedures',\n",
       " 'num_procedures',\n",
       " 'num_medications',\n",
       " 'number_outpatient',\n",
       " 'number_emergency',\n",
       " 'number_inpatient',\n",
       " 'number_diagnoses',\n",
       " 'time_in_hospital',\n",
       " 'race_AfricanAmerican',\n",
       " 'race_Asian',\n",
       " 'race_Caucasian',\n",
       " 'race_Hispanic',\n",
       " 'race_Other',\n",
       " 'gender_Female',\n",
       " 'gender_Male',\n",
       " 'gender_Unknown/Invalid',\n",
       " 'age2_[0-20)',\n",
       " 'age2_[20-30)',\n",
       " 'age2_[30-40)',\n",
       " 'age2_[40-50)',\n",
       " 'age2_[50-60)',\n",
       " 'age2_[60-70)',\n",
       " 'age2_[70-80)',\n",
       " 'age2_[80-90)',\n",
       " 'age2_[90-100)',\n",
       " 'weight2_>=150',\n",
       " 'weight2_[0-25)',\n",
       " 'weight2_[100-125)',\n",
       " 'weight2_[125-150)',\n",
       " 'weight2_[25-50)',\n",
       " 'weight2_[50-75)',\n",
       " 'weight2_[75-100)',\n",
       " 'admission_type_id2_1',\n",
       " 'admission_type_id2_2',\n",
       " 'admission_type_id2_3',\n",
       " 'admission_type_id2_4',\n",
       " 'admission_type_id2_7',\n",
       " 'admission_type_id2_Not_Available',\n",
       " 'discharge_disposition_id2_1',\n",
       " 'discharge_disposition_id2_2',\n",
       " 'discharge_disposition_id2_3',\n",
       " 'discharge_disposition_id2_4',\n",
       " 'discharge_disposition_id2_5',\n",
       " 'discharge_disposition_id2_6',\n",
       " 'discharge_disposition_id2_7',\n",
       " 'discharge_disposition_id2_11',\n",
       " 'discharge_disposition_id2_22',\n",
       " 'discharge_disposition_id2_Not_Available',\n",
       " 'discharge_disposition_id2_Other',\n",
       " 'admission_source_id2_1',\n",
       " 'admission_source_id2_2',\n",
       " 'admission_source_id2_4',\n",
       " 'admission_source_id2_5',\n",
       " 'admission_source_id2_6',\n",
       " 'admission_source_id2_7',\n",
       " 'admission_source_id2_Not_Available',\n",
       " 'admission_source_id2_Other',\n",
       " 'payer_code2_BC',\n",
       " 'payer_code2_HM',\n",
       " 'payer_code2_MC',\n",
       " 'payer_code2_MD',\n",
       " 'payer_code2_Other',\n",
       " 'payer_code2_SP',\n",
       " 'medical_specialty2_Cardiology',\n",
       " 'medical_specialty2_Emergency/Trauma',\n",
       " 'medical_specialty2_Family/GeneralPractice',\n",
       " 'medical_specialty2_InternalMedicine',\n",
       " 'medical_specialty2_Other',\n",
       " 'medical_specialty2_Surgery-General',\n",
       " 'max_glu_serum_>200',\n",
       " 'max_glu_serum_>300',\n",
       " 'max_glu_serum_None',\n",
       " 'max_glu_serum_Norm',\n",
       " 'A1Cresult_>7',\n",
       " 'A1Cresult_>8',\n",
       " 'A1Cresult_None',\n",
       " 'A1Cresult_Norm',\n",
       " 'metformin2_No',\n",
       " 'metformin2_Yes',\n",
       " 'repaglinide2_No',\n",
       " 'repaglinide2_Yes',\n",
       " 'nateglinide2_No',\n",
       " 'nateglinide2_Yes',\n",
       " 'chlorpropamide2_No',\n",
       " 'chlorpropamide2_Yes',\n",
       " 'glimepiride2_No',\n",
       " 'glimepiride2_Yes',\n",
       " 'acetohexamide2_No',\n",
       " 'acetohexamide2_Yes',\n",
       " 'glipizide2_No',\n",
       " 'glipizide2_Yes',\n",
       " 'glyburide2_No',\n",
       " 'glyburide2_Yes',\n",
       " 'tolbutamide2_No',\n",
       " 'tolbutamide2_Yes',\n",
       " 'pioglitazone2_No',\n",
       " 'pioglitazone2_Yes',\n",
       " 'rosiglitazone2_No',\n",
       " 'rosiglitazone2_Yes',\n",
       " 'acarbose2_No',\n",
       " 'acarbose2_Yes',\n",
       " 'miglitol2_No',\n",
       " 'miglitol2_Yes',\n",
       " 'troglitazone2_No',\n",
       " 'troglitazone2_Yes',\n",
       " 'tolazamide2_No',\n",
       " 'tolazamide2_Yes',\n",
       " 'examide2_No',\n",
       " 'citoglipton2_No',\n",
       " 'insulin2_No',\n",
       " 'insulin2_Yes',\n",
       " 'glyburide-metformin2_No',\n",
       " 'glyburide-metformin2_Yes',\n",
       " 'glipizide-metformin2_No',\n",
       " 'glipizide-metformin2_Yes',\n",
       " 'glimepiride-pioglitazone2_No',\n",
       " 'glimepiride-pioglitazone2_Yes']"
      ]
     },
     "execution_count": 31,
     "metadata": {},
     "output_type": "execute_result"
    }
   ],
   "source": [
    "#concatenate to obtain preliminary set of features\n",
    "features=pd.concat([data1[cols_to_norm], onehotencoded],axis=1)\n",
    "features.columns.tolist()"
   ]
  },
  {
   "cell_type": "code",
   "execution_count": 53,
   "metadata": {
    "collapsed": true
   },
   "outputs": [],
   "source": [
    "initial_cols_to_model=['num_lab_procedures',\n",
    " 'num_procedures',\n",
    " 'num_medications',\n",
    " 'number_outpatient',\n",
    " 'number_emergency',\n",
    " 'number_inpatient',\n",
    " 'number_diagnoses',\n",
    " 'time_in_hospital',\n",
    " 'race_AfricanAmerican',\n",
    " 'race_Asian',\n",
    " 'race_Caucasian',\n",
    " 'race_Hispanic',\n",
    " #'race_Other',\n",
    " #'gender_Female',\n",
    " 'gender_Male',\n",
    " #'age2_[0-20)',\n",
    " 'age2_[20-30)',\n",
    " 'age2_[30-40)',\n",
    " 'age2_[40-50)',\n",
    " 'age2_[50-60)',\n",
    " 'age2_[60-70)',\n",
    " 'age2_[70-80)',\n",
    " 'age2_[80-90)',\n",
    " 'age2_[90-100)',\n",
    " 'weight2_>=150',\n",
    " #'weight2_[0-25)',\n",
    " 'weight2_[100-125)',\n",
    " 'weight2_[125-150)',\n",
    " 'weight2_[25-50)',\n",
    " 'weight2_[50-75)',\n",
    " 'weight2_[75-100)',\n",
    " 'admission_type_id2_1',\n",
    " 'admission_type_id2_2',\n",
    " 'admission_type_id2_3',\n",
    " 'admission_type_id2_4',\n",
    " 'admission_type_id2_7',\n",
    " #'admission_type_id2_Not_Available',\n",
    " 'discharge_disposition_id2_1',\n",
    " 'discharge_disposition_id2_2',\n",
    " 'discharge_disposition_id2_3',\n",
    " 'discharge_disposition_id2_4',\n",
    " 'discharge_disposition_id2_5',\n",
    " 'discharge_disposition_id2_6',\n",
    " 'discharge_disposition_id2_7',\n",
    " 'discharge_disposition_id2_11',\n",
    " 'discharge_disposition_id2_22',\n",
    " 'discharge_disposition_id2_Not_Available',\n",
    " #'discharge_disposition_id2_Other',\n",
    " 'admission_source_id2_1',\n",
    " 'admission_source_id2_2',\n",
    " 'admission_source_id2_4',\n",
    " 'admission_source_id2_5',\n",
    " 'admission_source_id2_6',\n",
    " 'admission_source_id2_7',\n",
    " 'admission_source_id2_Not_Available',\n",
    " #'admission_source_id2_Other',\n",
    " 'medical_specialty2_Cardiology',\n",
    " 'medical_specialty2_Emergency/Trauma',\n",
    " 'medical_specialty2_Family/GeneralPractice',\n",
    " 'medical_specialty2_InternalMedicine',\n",
    " #'medical_specialty2_Other',\n",
    " 'medical_specialty2_Surgery-General',\n",
    " 'max_glu_serum_>200',\n",
    " 'max_glu_serum_>300',\n",
    " #'max_glu_serum_None',\n",
    " 'max_glu_serum_Norm',\n",
    " 'A1Cresult_>7',\n",
    " 'A1Cresult_>8',\n",
    "# 'A1Cresult_None',\n",
    " 'A1Cresult_Norm'\n",
    "]\n",
    "\n",
    "#reserve as base: all the 'other' or 'no' or 'None' level, or minority level"
   ]
  },
  {
   "cell_type": "raw",
   "metadata": {},
   "source": [
    " 'payer_code2_BC',\n",
    " 'payer_code2_HM',\n",
    " 'payer_code2_MC',\n",
    " 'payer_code2_MD',\n",
    " #'payer_code2_Other',\n",
    " 'payer_code2_SP',\n",
    " # 'metformin2_No',\n",
    " 'metformin2_Yes',\n",
    "# 'repaglinide2_No',\n",
    " 'repaglinide2_Yes',\n",
    "# 'nateglinide2_No',\n",
    " 'nateglinide2_Yes',\n",
    "# 'chlorpropamide2_No',\n",
    " 'chlorpropamide2_Yes',\n",
    "# 'glimepiride2_No',\n",
    " 'glimepiride2_Yes',\n",
    "# 'acetohexamide2_No',\n",
    " 'acetohexamide2_Yes',\n",
    "# 'glipizide2_No',\n",
    " 'glipizide2_Yes',\n",
    "# 'glyburide2_No',\n",
    " 'glyburide2_Yes',\n",
    "# 'tolbutamide2_No',\n",
    " 'tolbutamide2_Yes',\n",
    "# 'pioglitazone2_No',\n",
    " 'pioglitazone2_Yes',\n",
    "# 'rosiglitazone2_No',\n",
    " 'rosiglitazone2_Yes',\n",
    "# 'acarbose2_No',\n",
    " 'acarbose2_Yes',\n",
    "# 'miglitol2_No',\n",
    " 'miglitol2_Yes',\n",
    "# 'troglitazone2_No',\n",
    " 'troglitazone2_Yes',\n",
    "# 'tolazamide2_No',\n",
    " 'tolazamide2_Yes',\n",
    "# 'examide2_No',\n",
    "# 'citoglipton2_No',\n",
    "# 'insulin2_No',\n",
    " 'insulin2_Yes',\n",
    "# 'glyburide-metformin2_No',\n",
    " 'glyburide-metformin2_Yes',\n",
    "# 'glipizide-metformin2_No',\n",
    " 'glipizide-metformin2_Yes',\n",
    "# 'glimepiride-pioglitazone2_No',\n",
    " 'glimepiride-pioglitazone2_Yes',"
   ]
  },
  {
   "cell_type": "code",
   "execution_count": 54,
   "metadata": {
    "collapsed": false
   },
   "outputs": [
    {
     "data": {
      "text/plain": [
       "(44,)"
      ]
     },
     "execution_count": 54,
     "metadata": {},
     "output_type": "execute_result"
    }
   ],
   "source": [
    "#select significant features from initial set of features above and re-enter model training:\n",
    "\n",
    "cols_to_drop=['admission_type_id2_4',\n",
    " 'medical_specialty2_Surgery-General',\n",
    " 'race_AfricanAmerican',\n",
    " 'admission_type_id2_1',\n",
    " 'race_Caucasian',\n",
    " 'admission_type_id2_7',\n",
    " 'discharge_disposition_id2_11',\n",
    " 'num_procedures',\n",
    " 'race_Asian',\n",
    " 'race_Hispanic',\n",
    " 'discharge_disposition_id2_1',\n",
    " 'admission_type_id2_3',\n",
    "              #first set\n",
    "'weight2_[50-75)',\n",
    " 'max_glu_serum_>300',\n",
    " 'weight2_>=150',\n",
    " 'weight2_[25-50)',\n",
    " 'max_glu_serum_>200'\n",
    "\n",
    "] #drop insignificant variables from previous model training results\n",
    "\n",
    "cols_to_model=pd.concat([features[list(set(initial_cols_to_model)-set(cols_to_drop))],data1['label']], axis=1)\n",
    "cols_to_model.columns.shape"
   ]
  },
  {
   "cell_type": "code",
   "execution_count": 55,
   "metadata": {
    "collapsed": false
   },
   "outputs": [
    {
     "data": {
      "text/html": [
       "<div>\n",
       "<style scoped>\n",
       "    .dataframe tbody tr th:only-of-type {\n",
       "        vertical-align: middle;\n",
       "    }\n",
       "\n",
       "    .dataframe tbody tr th {\n",
       "        vertical-align: top;\n",
       "    }\n",
       "\n",
       "    .dataframe thead th {\n",
       "        text-align: right;\n",
       "    }\n",
       "</style>\n",
       "<table border=\"1\" class=\"dataframe\">\n",
       "  <thead>\n",
       "    <tr style=\"text-align: right;\">\n",
       "      <th></th>\n",
       "      <th>VIF_factor</th>\n",
       "      <th>features</th>\n",
       "    </tr>\n",
       "  </thead>\n",
       "  <tbody>\n",
       "    <tr>\n",
       "      <th>0</th>\n",
       "      <td>1.064628</td>\n",
       "      <td>A1Cresult_&gt;7</td>\n",
       "    </tr>\n",
       "    <tr>\n",
       "      <th>1</th>\n",
       "      <td>1.046512</td>\n",
       "      <td>discharge_disposition_id2_5</td>\n",
       "    </tr>\n",
       "    <tr>\n",
       "      <th>2</th>\n",
       "      <td>4.170550</td>\n",
       "      <td>admission_source_id2_6</td>\n",
       "    </tr>\n",
       "    <tr>\n",
       "      <th>3</th>\n",
       "      <td>1.154817</td>\n",
       "      <td>number_outpatient</td>\n",
       "    </tr>\n",
       "    <tr>\n",
       "      <th>4</th>\n",
       "      <td>1.127917</td>\n",
       "      <td>discharge_disposition_id2_Not_Available</td>\n",
       "    </tr>\n",
       "    <tr>\n",
       "      <th>5</th>\n",
       "      <td>3.228563</td>\n",
       "      <td>age2_[20-30)</td>\n",
       "    </tr>\n",
       "    <tr>\n",
       "      <th>6</th>\n",
       "      <td>1.323923</td>\n",
       "      <td>medical_specialty2_Cardiology</td>\n",
       "    </tr>\n",
       "    <tr>\n",
       "      <th>7</th>\n",
       "      <td>1.544786</td>\n",
       "      <td>discharge_disposition_id2_3</td>\n",
       "    </tr>\n",
       "    <tr>\n",
       "      <th>8</th>\n",
       "      <td>1.099115</td>\n",
       "      <td>weight2_[125-150)</td>\n",
       "    </tr>\n",
       "    <tr>\n",
       "      <th>9</th>\n",
       "      <td>44.018090</td>\n",
       "      <td>admission_source_id2_1</td>\n",
       "    </tr>\n",
       "    <tr>\n",
       "      <th>10</th>\n",
       "      <td>6.959665</td>\n",
       "      <td>num_medications</td>\n",
       "    </tr>\n",
       "    <tr>\n",
       "      <th>11</th>\n",
       "      <td>5.668563</td>\n",
       "      <td>age2_[30-40)</td>\n",
       "    </tr>\n",
       "    <tr>\n",
       "      <th>12</th>\n",
       "      <td>78.782244</td>\n",
       "      <td>weight2_[75-100)</td>\n",
       "    </tr>\n",
       "    <tr>\n",
       "      <th>13</th>\n",
       "      <td>1.188938</td>\n",
       "      <td>number_emergency</td>\n",
       "    </tr>\n",
       "    <tr>\n",
       "      <th>14</th>\n",
       "      <td>4.581670</td>\n",
       "      <td>age2_[90-100)</td>\n",
       "    </tr>\n",
       "    <tr>\n",
       "      <th>15</th>\n",
       "      <td>1.021307</td>\n",
       "      <td>discharge_disposition_id2_7</td>\n",
       "    </tr>\n",
       "    <tr>\n",
       "      <th>16</th>\n",
       "      <td>16.695618</td>\n",
       "      <td>number_diagnoses</td>\n",
       "    </tr>\n",
       "    <tr>\n",
       "      <th>17</th>\n",
       "      <td>1.346951</td>\n",
       "      <td>discharge_disposition_id2_6</td>\n",
       "    </tr>\n",
       "    <tr>\n",
       "      <th>18</th>\n",
       "      <td>1.558809</td>\n",
       "      <td>number_inpatient</td>\n",
       "    </tr>\n",
       "    <tr>\n",
       "      <th>19</th>\n",
       "      <td>34.635571</td>\n",
       "      <td>age2_[70-80)</td>\n",
       "    </tr>\n",
       "    <tr>\n",
       "      <th>20</th>\n",
       "      <td>2.620730</td>\n",
       "      <td>admission_source_id2_2</td>\n",
       "    </tr>\n",
       "    <tr>\n",
       "      <th>21</th>\n",
       "      <td>90.628963</td>\n",
       "      <td>admission_source_id2_7</td>\n",
       "    </tr>\n",
       "    <tr>\n",
       "      <th>22</th>\n",
       "      <td>11.505286</td>\n",
       "      <td>admission_source_id2_Not_Available</td>\n",
       "    </tr>\n",
       "    <tr>\n",
       "      <th>23</th>\n",
       "      <td>1.576237</td>\n",
       "      <td>admission_type_id2_2</td>\n",
       "    </tr>\n",
       "    <tr>\n",
       "      <th>24</th>\n",
       "      <td>1.820455</td>\n",
       "      <td>medical_specialty2_Emergency/Trauma</td>\n",
       "    </tr>\n",
       "    <tr>\n",
       "      <th>25</th>\n",
       "      <td>1.087260</td>\n",
       "      <td>A1Cresult_Norm</td>\n",
       "    </tr>\n",
       "    <tr>\n",
       "      <th>26</th>\n",
       "      <td>1.031965</td>\n",
       "      <td>discharge_disposition_id2_4</td>\n",
       "    </tr>\n",
       "    <tr>\n",
       "      <th>27</th>\n",
       "      <td>1.302863</td>\n",
       "      <td>max_glu_serum_Norm</td>\n",
       "    </tr>\n",
       "    <tr>\n",
       "      <th>28</th>\n",
       "      <td>1.495501</td>\n",
       "      <td>weight2_[100-125)</td>\n",
       "    </tr>\n",
       "    <tr>\n",
       "      <th>29</th>\n",
       "      <td>5.556310</td>\n",
       "      <td>admission_source_id2_4</td>\n",
       "    </tr>\n",
       "    <tr>\n",
       "      <th>30</th>\n",
       "      <td>7.888848</td>\n",
       "      <td>num_lab_procedures</td>\n",
       "    </tr>\n",
       "    <tr>\n",
       "      <th>31</th>\n",
       "      <td>3.541731</td>\n",
       "      <td>time_in_hospital</td>\n",
       "    </tr>\n",
       "    <tr>\n",
       "      <th>32</th>\n",
       "      <td>5.783322</td>\n",
       "      <td>medical_specialty2_InternalMedicine</td>\n",
       "    </tr>\n",
       "    <tr>\n",
       "      <th>33</th>\n",
       "      <td>21.193377</td>\n",
       "      <td>age2_[50-60)</td>\n",
       "    </tr>\n",
       "    <tr>\n",
       "      <th>34</th>\n",
       "      <td>1.897192</td>\n",
       "      <td>gender_Male</td>\n",
       "    </tr>\n",
       "    <tr>\n",
       "      <th>35</th>\n",
       "      <td>12.770405</td>\n",
       "      <td>age2_[40-50)</td>\n",
       "    </tr>\n",
       "    <tr>\n",
       "      <th>36</th>\n",
       "      <td>29.170616</td>\n",
       "      <td>age2_[60-70)</td>\n",
       "    </tr>\n",
       "    <tr>\n",
       "      <th>37</th>\n",
       "      <td>23.634687</td>\n",
       "      <td>age2_[80-90)</td>\n",
       "    </tr>\n",
       "    <tr>\n",
       "      <th>38</th>\n",
       "      <td>1.561134</td>\n",
       "      <td>medical_specialty2_Family/GeneralPractice</td>\n",
       "    </tr>\n",
       "    <tr>\n",
       "      <th>39</th>\n",
       "      <td>2.253339</td>\n",
       "      <td>admission_source_id2_5</td>\n",
       "    </tr>\n",
       "    <tr>\n",
       "      <th>40</th>\n",
       "      <td>1.170693</td>\n",
       "      <td>A1Cresult_&gt;8</td>\n",
       "    </tr>\n",
       "    <tr>\n",
       "      <th>41</th>\n",
       "      <td>1.112321</td>\n",
       "      <td>discharge_disposition_id2_22</td>\n",
       "    </tr>\n",
       "    <tr>\n",
       "      <th>42</th>\n",
       "      <td>1.053605</td>\n",
       "      <td>discharge_disposition_id2_2</td>\n",
       "    </tr>\n",
       "    <tr>\n",
       "      <th>43</th>\n",
       "      <td>2.147607</td>\n",
       "      <td>label</td>\n",
       "    </tr>\n",
       "  </tbody>\n",
       "</table>\n",
       "</div>"
      ],
      "text/plain": [
       "    VIF_factor                                   features\n",
       "0     1.064628                               A1Cresult_>7\n",
       "1     1.046512                discharge_disposition_id2_5\n",
       "2     4.170550                     admission_source_id2_6\n",
       "3     1.154817                          number_outpatient\n",
       "4     1.127917    discharge_disposition_id2_Not_Available\n",
       "5     3.228563                               age2_[20-30)\n",
       "6     1.323923              medical_specialty2_Cardiology\n",
       "7     1.544786                discharge_disposition_id2_3\n",
       "8     1.099115                          weight2_[125-150)\n",
       "9    44.018090                     admission_source_id2_1\n",
       "10    6.959665                            num_medications\n",
       "11    5.668563                               age2_[30-40)\n",
       "12   78.782244                           weight2_[75-100)\n",
       "13    1.188938                           number_emergency\n",
       "14    4.581670                              age2_[90-100)\n",
       "15    1.021307                discharge_disposition_id2_7\n",
       "16   16.695618                           number_diagnoses\n",
       "17    1.346951                discharge_disposition_id2_6\n",
       "18    1.558809                           number_inpatient\n",
       "19   34.635571                               age2_[70-80)\n",
       "20    2.620730                     admission_source_id2_2\n",
       "21   90.628963                     admission_source_id2_7\n",
       "22   11.505286         admission_source_id2_Not_Available\n",
       "23    1.576237                       admission_type_id2_2\n",
       "24    1.820455        medical_specialty2_Emergency/Trauma\n",
       "25    1.087260                             A1Cresult_Norm\n",
       "26    1.031965                discharge_disposition_id2_4\n",
       "27    1.302863                         max_glu_serum_Norm\n",
       "28    1.495501                          weight2_[100-125)\n",
       "29    5.556310                     admission_source_id2_4\n",
       "30    7.888848                         num_lab_procedures\n",
       "31    3.541731                           time_in_hospital\n",
       "32    5.783322        medical_specialty2_InternalMedicine\n",
       "33   21.193377                               age2_[50-60)\n",
       "34    1.897192                                gender_Male\n",
       "35   12.770405                               age2_[40-50)\n",
       "36   29.170616                               age2_[60-70)\n",
       "37   23.634687                               age2_[80-90)\n",
       "38    1.561134  medical_specialty2_Family/GeneralPractice\n",
       "39    2.253339                     admission_source_id2_5\n",
       "40    1.170693                               A1Cresult_>8\n",
       "41    1.112321               discharge_disposition_id2_22\n",
       "42    1.053605                discharge_disposition_id2_2\n",
       "43    2.147607                                      label"
      ]
     },
     "execution_count": 55,
     "metadata": {},
     "output_type": "execute_result"
    }
   ],
   "source": [
    "# VIF check for multicolinearity among variables before entering the final model:\n",
    "from statsmodels.stats.outliers_influence import variance_inflation_factor\n",
    "\n",
    "# For each variable, calculate VIF and save in dataframe\n",
    "# the input variable dataset needs to be in matrix form to enter vif function in statsmodel\n",
    "X=cols_to_model.as_matrix()\n",
    "vif = pd.DataFrame()\n",
    "vif[\"VIF_factor\"] = [variance_inflation_factor(X, i) for i in range(X.shape[1])]\n",
    "vif[\"features\"] = cols_to_model.columns\n",
    "vif"
   ]
  },
  {
   "cell_type": "code",
   "execution_count": 56,
   "metadata": {
    "collapsed": false
   },
   "outputs": [
    {
     "data": {
      "text/plain": [
       "(34,)"
      ]
     },
     "execution_count": 56,
     "metadata": {},
     "output_type": "execute_result"
    }
   ],
   "source": [
    "# the rule of thumb is VIF >= 10 should be considered an indication of high colinearity:\n",
    "cols_to_drop2=vif.loc[vif['VIF_factor']>=10, 'features'] #high multicolinearity, we drop them from final cols_to_model\n",
    "# further drop the cols_to_drop2 from cols_to_model\n",
    "cols_to_model=cols_to_model[list(set(cols_to_model.columns)-set(cols_to_drop2.tolist()))]\n",
    "cols_to_model.columns.shape"
   ]
  },
  {
   "cell_type": "markdown",
   "metadata": {},
   "source": [
    "## Model Fitting - Logistic Regression"
   ]
  },
  {
   "cell_type": "code",
   "execution_count": 57,
   "metadata": {
    "collapsed": false
   },
   "outputs": [],
   "source": [
    "import statsmodels.api as sm\n",
    "import statsmodels.formula.api as smf"
   ]
  },
  {
   "cell_type": "code",
   "execution_count": 58,
   "metadata": {
    "collapsed": true
   },
   "outputs": [],
   "source": [
    "#train/test split for model training and accuracy testing:\n",
    "selected = np.random.rand(len(cols_to_model)) < 0.70\n",
    "\n",
    "cols_to_model_train = cols_to_model[selected] #training set\n",
    "\n",
    "cols_to_model_test = cols_to_model[~selected] #testing set"
   ]
  },
  {
   "cell_type": "code",
   "execution_count": 59,
   "metadata": {
    "collapsed": false
   },
   "outputs": [
    {
     "data": {
      "text/plain": [
       "Index(['A1Cresult_>7', 'discharge_disposition_id2_5', 'admission_source_id2_6',\n",
       "       'number_outpatient', 'discharge_disposition_id2_Not_Available',\n",
       "       'age2_[20-30)', 'medical_specialty2_Cardiology',\n",
       "       'discharge_disposition_id2_3', 'weight2_[125-150)', 'num_medications',\n",
       "       'age2_[30-40)', 'number_emergency', 'age2_[90-100)',\n",
       "       'discharge_disposition_id2_7', 'discharge_disposition_id2_6',\n",
       "       'number_inpatient', 'A1Cresult_>8', 'admission_source_id2_2',\n",
       "       'medical_specialty2_Emergency/Trauma', 'A1Cresult_Norm',\n",
       "       'discharge_disposition_id2_4', 'max_glu_serum_Norm',\n",
       "       'weight2_[100-125)', 'admission_source_id2_4', 'num_lab_procedures',\n",
       "       'time_in_hospital', 'medical_specialty2_InternalMedicine',\n",
       "       'gender_Male', 'label', 'medical_specialty2_Family/GeneralPractice',\n",
       "       'admission_source_id2_5', 'admission_type_id2_2',\n",
       "       'discharge_disposition_id2_22', 'discharge_disposition_id2_2'],\n",
       "      dtype='object')"
      ]
     },
     "execution_count": 59,
     "metadata": {},
     "output_type": "execute_result"
    }
   ],
   "source": [
    "cols_to_model_train.columns"
   ]
  },
  {
   "cell_type": "code",
   "execution_count": 60,
   "metadata": {
    "collapsed": false
   },
   "outputs": [
    {
     "name": "stderr",
     "output_type": "stream",
     "text": [
      "C:\\Users\\Dingding\\Anaconda3\\lib\\site-packages\\ipykernel\\__main__.py:6: SettingWithCopyWarning: \n",
      "A value is trying to be set on a copy of a slice from a DataFrame.\n",
      "Try using .loc[row_indexer,col_indexer] = value instead\n",
      "\n",
      "See the caveats in the documentation: http://pandas.pydata.org/pandas-docs/stable/indexing.html#indexing-view-versus-copy\n"
     ]
    }
   ],
   "source": [
    "#note sm.Logit() takes dataframe instead of series, need to convert label into dataframe instead of pd.Series\n",
    "#all input should be in float64:\n",
    "label_train=cols_to_model_train['label'].astype(float) #response variable\n",
    "del cols_to_model_train['label']\n",
    "for col in cols_to_model_train.columns:\n",
    "    cols_to_model_train[col]=cols_to_model_train[col].astype(float)   "
   ]
  },
  {
   "cell_type": "code",
   "execution_count": 61,
   "metadata": {
    "collapsed": false
   },
   "outputs": [
    {
     "name": "stdout",
     "output_type": "stream",
     "text": [
      "Optimization terminated successfully.\n",
      "         Current function value: 0.659534\n",
      "         Iterations 6\n"
     ]
    }
   ],
   "source": [
    "#initiate logfit model \n",
    "logfit = sm.Logit(label_train, cols_to_model_train)\n",
    "# fit the model\n",
    "result = logfit.fit(maxiter=1000)"
   ]
  },
  {
   "cell_type": "code",
   "execution_count": 62,
   "metadata": {
    "collapsed": false
   },
   "outputs": [
    {
     "name": "stdout",
     "output_type": "stream",
     "text": [
      "                           Logit Regression Results                           \n",
      "==============================================================================\n",
      "Dep. Variable:                  label   No. Observations:               126144\n",
      "Model:                          Logit   Df Residuals:                   126111\n",
      "Method:                           MLE   Df Model:                           32\n",
      "Date:                Tue, 05 Dec 2017   Pseudo R-squ.:                 0.04849\n",
      "Time:                        11:44:42   Log-Likelihood:                -83196.\n",
      "converged:                       True   LL-Null:                       -87436.\n",
      "                                        LLR p-value:                     0.000\n",
      "=============================================================================================================\n",
      "                                                coef    std err          z      P>|z|      [0.025      0.975]\n",
      "-------------------------------------------------------------------------------------------------------------\n",
      "A1Cresult_>7                                 -0.0775      0.032     -2.431      0.015      -0.140      -0.015\n",
      "discharge_disposition_id2_5                   0.9353      0.049     19.148      0.000       0.840       1.031\n",
      "admission_source_id2_6                       -0.1448      0.041     -3.550      0.000      -0.225      -0.065\n",
      "number_outpatient                            -0.3728      0.200     -1.860      0.063      -0.766       0.020\n",
      "discharge_disposition_id2_Not_Available       0.2234      0.028      8.041      0.000       0.169       0.278\n",
      "age2_[20-30)                                 -0.0228      0.047     -0.486      0.627      -0.115       0.069\n",
      "medical_specialty2_Cardiology                -0.4616      0.030    -15.342      0.000      -0.521      -0.403\n",
      "discharge_disposition_id2_3                   0.4562      0.018     26.046      0.000       0.422       0.491\n",
      "weight2_[125-150)                            -0.3987      0.164     -2.434      0.015      -0.720      -0.078\n",
      "num_medications                              -0.3281      0.062     -5.251      0.000      -0.451      -0.206\n",
      "age2_[30-40)                                 -0.0449      0.031     -1.436      0.151      -0.106       0.016\n",
      "number_emergency                              4.6519      0.569      8.172      0.000       3.536       5.768\n",
      "age2_[90-100)                                -0.1070      0.036     -2.996      0.003      -0.177      -0.037\n",
      "discharge_disposition_id2_7                   0.2598      0.074      3.521      0.000       0.115       0.404\n",
      "discharge_disposition_id2_6                   0.2223      0.018     12.337      0.000       0.187       0.258\n",
      "number_inpatient                              6.0794      0.102     59.659      0.000       5.880       6.279\n",
      "A1Cresult_>8                                 -0.1187      0.023     -5.262      0.000      -0.163      -0.074\n",
      "admission_source_id2_2                       -0.1083      0.057     -1.895      0.058      -0.220       0.004\n",
      "medical_specialty2_Emergency/Trauma          -0.3371      0.025    -13.226      0.000      -0.387      -0.287\n",
      "A1Cresult_Norm                               -0.1070      0.028     -3.824      0.000      -0.162      -0.052\n",
      "discharge_disposition_id2_4                   0.3064      0.063      4.834      0.000       0.182       0.431\n",
      "max_glu_serum_Norm                           -0.2039      0.037     -5.527      0.000      -0.276      -0.132\n",
      "weight2_[100-125)                             0.1310      0.073      1.798      0.072      -0.012       0.274\n",
      "admission_source_id2_4                       -0.2123      0.036     -5.921      0.000      -0.283      -0.142\n",
      "num_lab_procedures                           -0.3353      0.041     -8.095      0.000      -0.417      -0.254\n",
      "time_in_hospital                              0.1815      0.030      5.966      0.000       0.122       0.241\n",
      "medical_specialty2_InternalMedicine          -0.1940      0.014    -14.022      0.000      -0.221      -0.167\n",
      "gender_Male                                  -0.0662      0.011     -5.846      0.000      -0.088      -0.044\n",
      "medical_specialty2_Family/GeneralPractice    -0.1892      0.024     -7.817      0.000      -0.237      -0.142\n",
      "admission_source_id2_5                       -0.3315      0.064     -5.148      0.000      -0.458      -0.205\n",
      "admission_type_id2_2                         -0.0364      0.016     -2.290      0.022      -0.068      -0.005\n",
      "discharge_disposition_id2_22                  1.3041      0.038     34.776      0.000       1.231       1.378\n",
      "discharge_disposition_id2_2                   0.5543      0.038     14.501      0.000       0.479       0.629\n",
      "=============================================================================================================\n"
     ]
    }
   ],
   "source": [
    "print(result.summary())"
   ]
  },
  {
   "cell_type": "code",
   "execution_count": 63,
   "metadata": {
    "collapsed": false
   },
   "outputs": [
    {
     "data": {
      "text/html": [
       "<div>\n",
       "<style scoped>\n",
       "    .dataframe tbody tr th:only-of-type {\n",
       "        vertical-align: middle;\n",
       "    }\n",
       "\n",
       "    .dataframe tbody tr th {\n",
       "        vertical-align: top;\n",
       "    }\n",
       "\n",
       "    .dataframe thead th {\n",
       "        text-align: right;\n",
       "    }\n",
       "</style>\n",
       "<table border=\"1\" class=\"dataframe\">\n",
       "  <thead>\n",
       "    <tr style=\"text-align: right;\">\n",
       "      <th></th>\n",
       "      <th>features</th>\n",
       "      <th>pvalues</th>\n",
       "    </tr>\n",
       "  </thead>\n",
       "  <tbody>\n",
       "    <tr>\n",
       "      <th>0</th>\n",
       "      <td>A1Cresult_&gt;7</td>\n",
       "      <td>1.503850e-02</td>\n",
       "    </tr>\n",
       "    <tr>\n",
       "      <th>1</th>\n",
       "      <td>discharge_disposition_id2_5</td>\n",
       "      <td>1.005867e-81</td>\n",
       "    </tr>\n",
       "    <tr>\n",
       "      <th>2</th>\n",
       "      <td>admission_source_id2_6</td>\n",
       "      <td>3.849173e-04</td>\n",
       "    </tr>\n",
       "    <tr>\n",
       "      <th>3</th>\n",
       "      <td>number_outpatient</td>\n",
       "      <td>6.284218e-02</td>\n",
       "    </tr>\n",
       "    <tr>\n",
       "      <th>4</th>\n",
       "      <td>discharge_disposition_id2_Not_Available</td>\n",
       "      <td>8.899294e-16</td>\n",
       "    </tr>\n",
       "    <tr>\n",
       "      <th>5</th>\n",
       "      <td>age2_[20-30)</td>\n",
       "      <td>6.267817e-01</td>\n",
       "    </tr>\n",
       "    <tr>\n",
       "      <th>6</th>\n",
       "      <td>medical_specialty2_Cardiology</td>\n",
       "      <td>4.006040e-53</td>\n",
       "    </tr>\n",
       "    <tr>\n",
       "      <th>7</th>\n",
       "      <td>discharge_disposition_id2_3</td>\n",
       "      <td>1.511199e-149</td>\n",
       "    </tr>\n",
       "    <tr>\n",
       "      <th>8</th>\n",
       "      <td>weight2_[125-150)</td>\n",
       "      <td>1.493269e-02</td>\n",
       "    </tr>\n",
       "    <tr>\n",
       "      <th>9</th>\n",
       "      <td>num_medications</td>\n",
       "      <td>1.515114e-07</td>\n",
       "    </tr>\n",
       "    <tr>\n",
       "      <th>10</th>\n",
       "      <td>age2_[30-40)</td>\n",
       "      <td>1.509373e-01</td>\n",
       "    </tr>\n",
       "    <tr>\n",
       "      <th>11</th>\n",
       "      <td>number_emergency</td>\n",
       "      <td>3.045592e-16</td>\n",
       "    </tr>\n",
       "    <tr>\n",
       "      <th>12</th>\n",
       "      <td>age2_[90-100)</td>\n",
       "      <td>2.733664e-03</td>\n",
       "    </tr>\n",
       "    <tr>\n",
       "      <th>13</th>\n",
       "      <td>discharge_disposition_id2_7</td>\n",
       "      <td>4.304765e-04</td>\n",
       "    </tr>\n",
       "    <tr>\n",
       "      <th>14</th>\n",
       "      <td>discharge_disposition_id2_6</td>\n",
       "      <td>5.726444e-35</td>\n",
       "    </tr>\n",
       "    <tr>\n",
       "      <th>15</th>\n",
       "      <td>number_inpatient</td>\n",
       "      <td>0.000000e+00</td>\n",
       "    </tr>\n",
       "    <tr>\n",
       "      <th>16</th>\n",
       "      <td>A1Cresult_&gt;8</td>\n",
       "      <td>1.424135e-07</td>\n",
       "    </tr>\n",
       "    <tr>\n",
       "      <th>17</th>\n",
       "      <td>admission_source_id2_2</td>\n",
       "      <td>5.809619e-02</td>\n",
       "    </tr>\n",
       "    <tr>\n",
       "      <th>18</th>\n",
       "      <td>medical_specialty2_Emergency/Trauma</td>\n",
       "      <td>6.251059e-40</td>\n",
       "    </tr>\n",
       "    <tr>\n",
       "      <th>19</th>\n",
       "      <td>A1Cresult_Norm</td>\n",
       "      <td>1.312928e-04</td>\n",
       "    </tr>\n",
       "    <tr>\n",
       "      <th>20</th>\n",
       "      <td>discharge_disposition_id2_4</td>\n",
       "      <td>1.338465e-06</td>\n",
       "    </tr>\n",
       "    <tr>\n",
       "      <th>21</th>\n",
       "      <td>max_glu_serum_Norm</td>\n",
       "      <td>3.251342e-08</td>\n",
       "    </tr>\n",
       "    <tr>\n",
       "      <th>22</th>\n",
       "      <td>weight2_[100-125)</td>\n",
       "      <td>7.221545e-02</td>\n",
       "    </tr>\n",
       "    <tr>\n",
       "      <th>23</th>\n",
       "      <td>admission_source_id2_4</td>\n",
       "      <td>3.204326e-09</td>\n",
       "    </tr>\n",
       "    <tr>\n",
       "      <th>24</th>\n",
       "      <td>num_lab_procedures</td>\n",
       "      <td>5.735682e-16</td>\n",
       "    </tr>\n",
       "    <tr>\n",
       "      <th>25</th>\n",
       "      <td>time_in_hospital</td>\n",
       "      <td>2.436454e-09</td>\n",
       "    </tr>\n",
       "    <tr>\n",
       "      <th>26</th>\n",
       "      <td>medical_specialty2_InternalMedicine</td>\n",
       "      <td>1.136153e-44</td>\n",
       "    </tr>\n",
       "    <tr>\n",
       "      <th>27</th>\n",
       "      <td>gender_Male</td>\n",
       "      <td>5.046526e-09</td>\n",
       "    </tr>\n",
       "    <tr>\n",
       "      <th>28</th>\n",
       "      <td>medical_specialty2_Family/GeneralPractice</td>\n",
       "      <td>5.415962e-15</td>\n",
       "    </tr>\n",
       "    <tr>\n",
       "      <th>29</th>\n",
       "      <td>admission_source_id2_5</td>\n",
       "      <td>2.638176e-07</td>\n",
       "    </tr>\n",
       "    <tr>\n",
       "      <th>30</th>\n",
       "      <td>admission_type_id2_2</td>\n",
       "      <td>2.203469e-02</td>\n",
       "    </tr>\n",
       "    <tr>\n",
       "      <th>31</th>\n",
       "      <td>discharge_disposition_id2_22</td>\n",
       "      <td>5.537629e-265</td>\n",
       "    </tr>\n",
       "    <tr>\n",
       "      <th>32</th>\n",
       "      <td>discharge_disposition_id2_2</td>\n",
       "      <td>1.197482e-47</td>\n",
       "    </tr>\n",
       "  </tbody>\n",
       "</table>\n",
       "</div>"
      ],
      "text/plain": [
       "                                     features        pvalues\n",
       "0                                A1Cresult_>7   1.503850e-02\n",
       "1                 discharge_disposition_id2_5   1.005867e-81\n",
       "2                      admission_source_id2_6   3.849173e-04\n",
       "3                           number_outpatient   6.284218e-02\n",
       "4     discharge_disposition_id2_Not_Available   8.899294e-16\n",
       "5                                age2_[20-30)   6.267817e-01\n",
       "6               medical_specialty2_Cardiology   4.006040e-53\n",
       "7                 discharge_disposition_id2_3  1.511199e-149\n",
       "8                           weight2_[125-150)   1.493269e-02\n",
       "9                             num_medications   1.515114e-07\n",
       "10                               age2_[30-40)   1.509373e-01\n",
       "11                           number_emergency   3.045592e-16\n",
       "12                              age2_[90-100)   2.733664e-03\n",
       "13                discharge_disposition_id2_7   4.304765e-04\n",
       "14                discharge_disposition_id2_6   5.726444e-35\n",
       "15                           number_inpatient   0.000000e+00\n",
       "16                               A1Cresult_>8   1.424135e-07\n",
       "17                     admission_source_id2_2   5.809619e-02\n",
       "18        medical_specialty2_Emergency/Trauma   6.251059e-40\n",
       "19                             A1Cresult_Norm   1.312928e-04\n",
       "20                discharge_disposition_id2_4   1.338465e-06\n",
       "21                         max_glu_serum_Norm   3.251342e-08\n",
       "22                          weight2_[100-125)   7.221545e-02\n",
       "23                     admission_source_id2_4   3.204326e-09\n",
       "24                         num_lab_procedures   5.735682e-16\n",
       "25                           time_in_hospital   2.436454e-09\n",
       "26        medical_specialty2_InternalMedicine   1.136153e-44\n",
       "27                                gender_Male   5.046526e-09\n",
       "28  medical_specialty2_Family/GeneralPractice   5.415962e-15\n",
       "29                     admission_source_id2_5   2.638176e-07\n",
       "30                       admission_type_id2_2   2.203469e-02\n",
       "31               discharge_disposition_id2_22  5.537629e-265\n",
       "32                discharge_disposition_id2_2   1.197482e-47"
      ]
     },
     "execution_count": 63,
     "metadata": {},
     "output_type": "execute_result"
    }
   ],
   "source": [
    "#return p-values of coefficients from fitted model:\n",
    "pvalues=result.pvalues.to_frame()\n",
    "pvalues.reset_index(inplace=True)\n",
    "pvalues.columns=['features','pvalues']\n",
    "pvalues\n"
   ]
  },
  {
   "cell_type": "code",
   "execution_count": 64,
   "metadata": {
    "collapsed": false
   },
   "outputs": [
    {
     "data": {
      "text/plain": [
       "['age2_[20-30)']"
      ]
     },
     "execution_count": 64,
     "metadata": {},
     "output_type": "execute_result"
    }
   ],
   "source": [
    "#drop all the features with p-value <=0.2 and refit the model with updated set of features:\n",
    "cols_to_drop=pvalues.loc[pvalues['pvalues']>0.2, 'features'].tolist()\n",
    "cols_to_drop"
   ]
  },
  {
   "cell_type": "code",
   "execution_count": 65,
   "metadata": {
    "collapsed": false
   },
   "outputs": [
    {
     "data": {
      "text/html": [
       "<div>\n",
       "<style scoped>\n",
       "    .dataframe tbody tr th:only-of-type {\n",
       "        vertical-align: middle;\n",
       "    }\n",
       "\n",
       "    .dataframe tbody tr th {\n",
       "        vertical-align: top;\n",
       "    }\n",
       "\n",
       "    .dataframe thead th {\n",
       "        text-align: right;\n",
       "    }\n",
       "</style>\n",
       "<table border=\"1\" class=\"dataframe\">\n",
       "  <thead>\n",
       "    <tr style=\"text-align: right;\">\n",
       "      <th></th>\n",
       "      <th>0</th>\n",
       "    </tr>\n",
       "  </thead>\n",
       "  <tbody>\n",
       "    <tr>\n",
       "      <th>number_emergency</th>\n",
       "      <td>4.651908</td>\n",
       "    </tr>\n",
       "    <tr>\n",
       "      <th>number_inpatient</th>\n",
       "      <td>6.079358</td>\n",
       "    </tr>\n",
       "    <tr>\n",
       "      <th>discharge_disposition_id2_22</th>\n",
       "      <td>1.304126</td>\n",
       "    </tr>\n",
       "  </tbody>\n",
       "</table>\n",
       "</div>"
      ],
      "text/plain": [
       "                                     0\n",
       "number_emergency              4.651908\n",
       "number_inpatient              6.079358\n",
       "discharge_disposition_id2_22  1.304126"
      ]
     },
     "execution_count": 65,
     "metadata": {},
     "output_type": "execute_result"
    }
   ],
   "source": [
    "#return coefficients from fitted model with coefficient absolute value greater than 1\n",
    "coefs=result.params.to_frame()\n",
    "coefs[abs(coefs[0])>1]"
   ]
  },
  {
   "cell_type": "markdown",
   "metadata": {},
   "source": [
    "## Model Accuracy Testing\n",
    "- Accuracy score: What percent of your predictions were correct?\n",
    "- AUROC\n",
    "- Confusion Metrix\n",
    "- Sensitivity/Recall: What percent of the positive cases did you catch?\n",
    "- Specificity: What percent of the negative cases did you catch?\n",
    "- Precision: What percent of positive predictions were correct?\n",
    "- F1 Score\n",
    "- MCC score"
   ]
  },
  {
   "cell_type": "code",
   "execution_count": 66,
   "metadata": {
    "collapsed": false
   },
   "outputs": [
    {
     "name": "stderr",
     "output_type": "stream",
     "text": [
      "C:\\Users\\Dingding\\Anaconda3\\lib\\site-packages\\ipykernel\\__main__.py:6: SettingWithCopyWarning: \n",
      "A value is trying to be set on a copy of a slice from a DataFrame.\n",
      "Try using .loc[row_indexer,col_indexer] = value instead\n",
      "\n",
      "See the caveats in the documentation: http://pandas.pydata.org/pandas-docs/stable/indexing.html#indexing-view-versus-copy\n"
     ]
    }
   ],
   "source": [
    "#note sm.Logit() takes dataframe instead of series, need to convert label into dataframe instead of pd.Series\n",
    "#all input should be in float64:\n",
    "label_test=cols_to_model_test['label'].astype(float) #response variable\n",
    "del cols_to_model_test['label']\n",
    "for col in cols_to_model_test.columns:\n",
    "    cols_to_model_test[col]=cols_to_model_test[col].astype(float)   "
   ]
  },
  {
   "cell_type": "code",
   "execution_count": 67,
   "metadata": {
    "collapsed": false
   },
   "outputs": [
    {
     "data": {
      "text/plain": [
       "0.60615498018980929"
      ]
     },
     "execution_count": 67,
     "metadata": {},
     "output_type": "execute_result"
    }
   ],
   "source": [
    "from sklearn import metrics\n",
    "from sklearn.metrics import accuracy_score\n",
    "accuracy_score(label_test, result.predict(cols_to_model_test).round())"
   ]
  },
  {
   "cell_type": "code",
   "execution_count": 77,
   "metadata": {
    "collapsed": false
   },
   "outputs": [
    {
     "data": {
      "image/png": "[encoded data removed]",
      "text/plain": [
       "<matplotlib.figure.Figure at 0x1489eeb8>"
      ]
     },
     "metadata": {},
     "output_type": "display_data"
    }
   ],
   "source": [
    "#ROC & AUC\n",
    "# calculate the fpr and tpr for all thresholds of the classification\n",
    "from sklearn import metrics\n",
    "from sklearn.metrics import roc_curve, auc\n",
    "fpr, tpr, threshold = metrics.roc_curve(label_test, result.predict(cols_to_model_test))\n",
    "roc_auc = metrics.auc(fpr, tpr)\n",
    "\n",
    "import matplotlib.pyplot as plt\n",
    "plt.title('Receiver Operating Characteristic - Logistic Regression Model')\n",
    "plt.plot(fpr, tpr, 'b', label = 'AUC = %0.2f' % roc_auc)\n",
    "plt.legend(loc = 'lower right')\n",
    "plt.plot([0, 1], [0, 1],'r--')\n",
    "plt.xlim([0, 1])\n",
    "plt.ylim([0, 1])\n",
    "plt.ylabel('True Positive Rate')\n",
    "plt.xlabel('False Positive Rate')\n",
    "plt.show()\n",
    "\n",
    "#according to AUROC, it seems like a cut-off probability for bad buy at 0.5 is a good start"
   ]
  },
  {
   "cell_type": "code",
   "execution_count": 69,
   "metadata": {
    "collapsed": false
   },
   "outputs": [
    {
     "name": "stdout",
     "output_type": "stream",
     "text": [
      "[[18256  9066]\n",
      " [12306 14637]]\n"
     ]
    },
    {
     "data": {
      "text/html": [
       "<div>\n",
       "<style scoped>\n",
       "    .dataframe tbody tr th:only-of-type {\n",
       "        vertical-align: middle;\n",
       "    }\n",
       "\n",
       "    .dataframe tbody tr th {\n",
       "        vertical-align: top;\n",
       "    }\n",
       "\n",
       "    .dataframe thead th {\n",
       "        text-align: right;\n",
       "    }\n",
       "</style>\n",
       "<table border=\"1\" class=\"dataframe\">\n",
       "  <thead>\n",
       "    <tr style=\"text-align: right;\">\n",
       "      <th></th>\n",
       "      <th>predicted_0</th>\n",
       "      <th>predicted_1</th>\n",
       "    </tr>\n",
       "  </thead>\n",
       "  <tbody>\n",
       "    <tr>\n",
       "      <th>actual_0</th>\n",
       "      <td>18256</td>\n",
       "      <td>9066</td>\n",
       "    </tr>\n",
       "    <tr>\n",
       "      <th>actual_1</th>\n",
       "      <td>12306</td>\n",
       "      <td>14637</td>\n",
       "    </tr>\n",
       "  </tbody>\n",
       "</table>\n",
       "</div>"
      ],
      "text/plain": [
       "          predicted_0  predicted_1\n",
       "actual_0        18256         9066\n",
       "actual_1        12306        14637"
      ]
     },
     "execution_count": 69,
     "metadata": {},
     "output_type": "execute_result"
    }
   ],
   "source": [
    "#create confusion metrix and put into dataframe:\n",
    "print(metrics.confusion_matrix(label_test,result.predict(cols_to_model_test).round()))\n",
    "\n",
    "confusion_metrix=pd.DataFrame(metrics.confusion_matrix(label_test,result.predict(cols_to_model_test).round()))\n",
    "confusion_metrix.columns=['predicted_0','predicted_1'] #rename columns\n",
    "confusion_metrix.index=['actual_0','actual_1'] #reset index value\n",
    "\n",
    "TP=confusion_metrix.iloc[1,1]\n",
    "FP=confusion_metrix.iloc[0,1]\n",
    "FN=confusion_metrix.iloc[1,0]\n",
    "TN=confusion_metrix.iloc[0,0]\n",
    "confusion_metrix"
   ]
  },
  {
   "cell_type": "code",
   "execution_count": 70,
   "metadata": {
    "collapsed": false
   },
   "outputs": [
    {
     "name": "stdout",
     "output_type": "stream",
     "text": [
      "Model prediction recall is 0.5432579890880749.\n"
     ]
    }
   ],
   "source": [
    "#Recall/Sensitivity\n",
    "recall=TP/(TP+FN)\n",
    "print(\"Model prediction recall is {}.\".format(recall))"
   ]
  },
  {
   "cell_type": "code",
   "execution_count": 71,
   "metadata": {
    "collapsed": false
   },
   "outputs": [
    {
     "name": "stdout",
     "output_type": "stream",
     "text": [
      "Model prediction specificity is 0.668179489056438.\n"
     ]
    }
   ],
   "source": [
    "#Specificity\n",
    "specificity = TN/(TN+FP)\n",
    "print(\"Model prediction specificity is {}.\".format(specificity))"
   ]
  },
  {
   "cell_type": "code",
   "execution_count": 72,
   "metadata": {
    "collapsed": false
   },
   "outputs": [
    {
     "name": "stdout",
     "output_type": "stream",
     "text": [
      "Model prediction precision is 0.6175167700291102.\n"
     ]
    }
   ],
   "source": [
    "#Precision\n",
    "precision=TP/(TP+FP)\n",
    "print(\"Model prediction precision is {}.\".format(precision))"
   ]
  },
  {
   "cell_type": "code",
   "execution_count": 73,
   "metadata": {
    "collapsed": false
   },
   "outputs": [
    {
     "name": "stdout",
     "output_type": "stream",
     "text": [
      "Model prediction f1 score is 0.578012083876318.\n"
     ]
    }
   ],
   "source": [
    "#F1 score\n",
    "f1_score=2*(precision*recall)/(precision+recall)\n",
    "print(\"Model prediction f1 score is {}.\".format(f1_score))"
   ]
  },
  {
   "cell_type": "markdown",
   "metadata": {},
   "source": [
    "## Model Optimization: Accuracy"
   ]
  },
  {
   "cell_type": "code",
   "execution_count": 168,
   "metadata": {
    "collapsed": false
   },
   "outputs": [
    {
     "name": "stdout",
     "output_type": "stream",
     "text": [
      "The best accuracy score is 0.6061549801898093 at probability threshold 0.5\n"
     ]
    },
    {
     "data": {
      "text/html": [
       "<div>\n",
       "<style scoped>\n",
       "    .dataframe tbody tr th:only-of-type {\n",
       "        vertical-align: middle;\n",
       "    }\n",
       "\n",
       "    .dataframe tbody tr th {\n",
       "        vertical-align: top;\n",
       "    }\n",
       "\n",
       "    .dataframe thead th {\n",
       "        text-align: right;\n",
       "    }\n",
       "</style>\n",
       "<table border=\"1\" class=\"dataframe\">\n",
       "  <thead>\n",
       "    <tr style=\"text-align: right;\">\n",
       "      <th></th>\n",
       "      <th>accuracy_score</th>\n",
       "      <th>threshold</th>\n",
       "    </tr>\n",
       "  </thead>\n",
       "  <tbody>\n",
       "    <tr>\n",
       "      <th>0</th>\n",
       "      <td>0.496508</td>\n",
       "      <td>0.00</td>\n",
       "    </tr>\n",
       "    <tr>\n",
       "      <th>1</th>\n",
       "      <td>0.496508</td>\n",
       "      <td>0.05</td>\n",
       "    </tr>\n",
       "    <tr>\n",
       "      <th>2</th>\n",
       "      <td>0.496508</td>\n",
       "      <td>0.10</td>\n",
       "    </tr>\n",
       "    <tr>\n",
       "      <th>3</th>\n",
       "      <td>0.496508</td>\n",
       "      <td>0.15</td>\n",
       "    </tr>\n",
       "    <tr>\n",
       "      <th>4</th>\n",
       "      <td>0.496508</td>\n",
       "      <td>0.20</td>\n",
       "    </tr>\n",
       "    <tr>\n",
       "      <th>5</th>\n",
       "      <td>0.496545</td>\n",
       "      <td>0.25</td>\n",
       "    </tr>\n",
       "    <tr>\n",
       "      <th>6</th>\n",
       "      <td>0.497190</td>\n",
       "      <td>0.30</td>\n",
       "    </tr>\n",
       "    <tr>\n",
       "      <th>7</th>\n",
       "      <td>0.506330</td>\n",
       "      <td>0.35</td>\n",
       "    </tr>\n",
       "    <tr>\n",
       "      <th>8</th>\n",
       "      <td>0.542044</td>\n",
       "      <td>0.40</td>\n",
       "    </tr>\n",
       "    <tr>\n",
       "      <th>9</th>\n",
       "      <td>0.590731</td>\n",
       "      <td>0.45</td>\n",
       "    </tr>\n",
       "    <tr>\n",
       "      <th>10</th>\n",
       "      <td>0.606155</td>\n",
       "      <td>0.50</td>\n",
       "    </tr>\n",
       "    <tr>\n",
       "      <th>11</th>\n",
       "      <td>0.599613</td>\n",
       "      <td>0.55</td>\n",
       "    </tr>\n",
       "    <tr>\n",
       "      <th>12</th>\n",
       "      <td>0.584963</td>\n",
       "      <td>0.60</td>\n",
       "    </tr>\n",
       "    <tr>\n",
       "      <th>13</th>\n",
       "      <td>0.571215</td>\n",
       "      <td>0.65</td>\n",
       "    </tr>\n",
       "    <tr>\n",
       "      <th>14</th>\n",
       "      <td>0.554206</td>\n",
       "      <td>0.70</td>\n",
       "    </tr>\n",
       "    <tr>\n",
       "      <th>15</th>\n",
       "      <td>0.537474</td>\n",
       "      <td>0.75</td>\n",
       "    </tr>\n",
       "    <tr>\n",
       "      <th>16</th>\n",
       "      <td>0.523560</td>\n",
       "      <td>0.80</td>\n",
       "    </tr>\n",
       "    <tr>\n",
       "      <th>17</th>\n",
       "      <td>0.516613</td>\n",
       "      <td>0.85</td>\n",
       "    </tr>\n",
       "    <tr>\n",
       "      <th>18</th>\n",
       "      <td>0.510992</td>\n",
       "      <td>0.90</td>\n",
       "    </tr>\n",
       "    <tr>\n",
       "      <th>19</th>\n",
       "      <td>0.505925</td>\n",
       "      <td>0.95</td>\n",
       "    </tr>\n",
       "  </tbody>\n",
       "</table>\n",
       "</div>"
      ],
      "text/plain": [
       "    accuracy_score  threshold\n",
       "0         0.496508       0.00\n",
       "1         0.496508       0.05\n",
       "2         0.496508       0.10\n",
       "3         0.496508       0.15\n",
       "4         0.496508       0.20\n",
       "5         0.496545       0.25\n",
       "6         0.497190       0.30\n",
       "7         0.506330       0.35\n",
       "8         0.542044       0.40\n",
       "9         0.590731       0.45\n",
       "10        0.606155       0.50\n",
       "11        0.599613       0.55\n",
       "12        0.584963       0.60\n",
       "13        0.571215       0.65\n",
       "14        0.554206       0.70\n",
       "15        0.537474       0.75\n",
       "16        0.523560       0.80\n",
       "17        0.516613       0.85\n",
       "18        0.510992       0.90\n",
       "19        0.505925       0.95"
      ]
     },
     "execution_count": 168,
     "metadata": {},
     "output_type": "execute_result"
    }
   ],
   "source": [
    "# find optimal threshold for best expected gain:\n",
    "#Expected Gain = TP*3+FN*(-1)+FP*(-5)+TN*0\n",
    "thresholds=np.arange(0.0, 1.0, 0.05).tolist()\n",
    "list_accuracy_scores=[]\n",
    "#list_expected_gain=[]\n",
    "i=0\n",
    "for val in thresholds:\n",
    "    list_accuracy_scores.append(accuracy_score(label_test, (result.predict(cols_to_model_test)-val+0.5).round()))\n",
    "    confusion_metrix=pd.DataFrame(metrics.confusion_matrix(label_test,(result.predict(cols_to_model_test)-val+0.5).round()))\n",
    "    TN=confusion_metrix.iloc[0,0]\n",
    "    FN=confusion_metrix.iloc[1,0]\n",
    "    FP=confusion_metrix.iloc[0,1]\n",
    "    TP=confusion_metrix.iloc[1,1]\n",
    "    #list_expected_gain.append(TP*3+FN*(-1)+FP*(-5)+TN*0)\n",
    "print('The best accuracy score is {} at probability threshold {}'.format(\n",
    "        max(list_accuracy_scores),list_accuracy_scores.index(max(list_accuracy_scores))*0.05)) #76.4% is the best accuracy rate at threshold of \n",
    "#max(list_expected_gain)\n",
    "\n",
    "#concatenate into dataframe:\n",
    "accuracy_by_threshold = pd.DataFrame(\n",
    "    {'threshold': thresholds,\n",
    "     'accuracy_score': list_accuracy_scores\n",
    "     #'gain': list_expected_gain\n",
    "    })\n",
    "accuracy_by_threshold"
   ]
  },
  {
   "cell_type": "code",
   "execution_count": 170,
   "metadata": {
    "collapsed": false
   },
   "outputs": [
    {
     "data": {
      "image/png": "[encoded data removed]",
      "text/plain": [
       "<matplotlib.figure.Figure at 0x151c7828>"
      ]
     },
     "metadata": {},
     "output_type": "display_data"
    }
   ],
   "source": [
    "# Accuracy Plot \n",
    "\n",
    "plt.plot(accuracy_by_threshold['threshold'], accuracy_by_threshold['accuracy_score'], color='blue');\n",
    "plt.title(\"Model Accuracy across Thresholds\")\n",
    "plt.xlabel(\"Threshold\")\n",
    "plt.ylabel(\"Accuracy Score\")\n",
    "plt.grid()\n",
    "#savefig('uplift_mro_deciles.png')\n",
    "plt.show()"
   ]
  },
  {
   "cell_type": "markdown",
   "metadata": {
    "collapsed": true
   },
   "source": [
    "## Gain Table & Lift Chart\n",
    "\n",
    "- use the whole dateset for prediction using trained model \n",
    "- rank output probability scores and create 10 deciles\n",
    "- calculate hit rate or response rate for each decile (number of positives fall in decile / total number of positives in population)\n",
    "- plot the cumulative hit rate for every decile on a lift chart against a random 10 part split of population (each splitted part will have hit rate proportional to their weight in total population)"
   ]
  },
  {
   "cell_type": "code",
   "execution_count": 84,
   "metadata": {
    "collapsed": false
   },
   "outputs": [],
   "source": [
    "#get actual response, predictions for the complete dateset (population)\n",
    "responses=cols_to_model['label']\n",
    "del cols_to_model['label']\n",
    "preds = result.predict(cols_to_model)"
   ]
  },
  {
   "cell_type": "code",
   "execution_count": 102,
   "metadata": {
    "collapsed": false
   },
   "outputs": [
    {
     "data": {
      "text/html": [
       "<div>\n",
       "<style scoped>\n",
       "    .dataframe tbody tr th:only-of-type {\n",
       "        vertical-align: middle;\n",
       "    }\n",
       "\n",
       "    .dataframe tbody tr th {\n",
       "        vertical-align: top;\n",
       "    }\n",
       "\n",
       "    .dataframe thead th {\n",
       "        text-align: right;\n",
       "    }\n",
       "</style>\n",
       "<table border=\"1\" class=\"dataframe\">\n",
       "  <thead>\n",
       "    <tr style=\"text-align: right;\">\n",
       "      <th></th>\n",
       "      <th>prediction</th>\n",
       "      <th>response</th>\n",
       "      <th>pred_decile</th>\n",
       "    </tr>\n",
       "  </thead>\n",
       "  <tbody>\n",
       "    <tr>\n",
       "      <th>0</th>\n",
       "      <td>0.530226</td>\n",
       "      <td>0.0</td>\n",
       "      <td>6</td>\n",
       "    </tr>\n",
       "    <tr>\n",
       "      <th>1</th>\n",
       "      <td>0.405109</td>\n",
       "      <td>0.0</td>\n",
       "      <td>1</td>\n",
       "    </tr>\n",
       "    <tr>\n",
       "      <th>2</th>\n",
       "      <td>0.498530</td>\n",
       "      <td>0.0</td>\n",
       "      <td>5</td>\n",
       "    </tr>\n",
       "    <tr>\n",
       "      <th>3</th>\n",
       "      <td>0.386349</td>\n",
       "      <td>0.0</td>\n",
       "      <td>1</td>\n",
       "    </tr>\n",
       "    <tr>\n",
       "      <th>4</th>\n",
       "      <td>0.397265</td>\n",
       "      <td>0.0</td>\n",
       "      <td>1</td>\n",
       "    </tr>\n",
       "    <tr>\n",
       "      <th>5</th>\n",
       "      <td>0.373947</td>\n",
       "      <td>0.0</td>\n",
       "      <td>0</td>\n",
       "    </tr>\n",
       "    <tr>\n",
       "      <th>6</th>\n",
       "      <td>0.357724</td>\n",
       "      <td>0.0</td>\n",
       "      <td>0</td>\n",
       "    </tr>\n",
       "    <tr>\n",
       "      <th>7</th>\n",
       "      <td>0.393231</td>\n",
       "      <td>0.0</td>\n",
       "      <td>1</td>\n",
       "    </tr>\n",
       "    <tr>\n",
       "      <th>8</th>\n",
       "      <td>0.364154</td>\n",
       "      <td>0.0</td>\n",
       "      <td>0</td>\n",
       "    </tr>\n",
       "    <tr>\n",
       "      <th>9</th>\n",
       "      <td>0.486218</td>\n",
       "      <td>0.0</td>\n",
       "      <td>5</td>\n",
       "    </tr>\n",
       "  </tbody>\n",
       "</table>\n",
       "</div>"
      ],
      "text/plain": [
       "   prediction  response  pred_decile\n",
       "0    0.530226       0.0            6\n",
       "1    0.405109       0.0            1\n",
       "2    0.498530       0.0            5\n",
       "3    0.386349       0.0            1\n",
       "4    0.397265       0.0            1\n",
       "5    0.373947       0.0            0\n",
       "6    0.357724       0.0            0\n",
       "7    0.393231       0.0            1\n",
       "8    0.364154       0.0            0\n",
       "9    0.486218       0.0            5"
      ]
     },
     "execution_count": 102,
     "metadata": {},
     "output_type": "execute_result"
    }
   ],
   "source": [
    "#concatenate responses and predictions into one dataframe, and sort into 10 deciles\n",
    "decile_table=pd.DataFrame({\n",
    "        'response': responses,\n",
    "        'prediction': preds\n",
    "    })\n",
    "decile_table['pred_decile'] = pd.qcut(decile_table['prediction'], 10, labels=False)\n",
    "decile_table.head(10)"
   ]
  },
  {
   "cell_type": "code",
   "execution_count": 104,
   "metadata": {
    "collapsed": false
   },
   "outputs": [
    {
     "data": {
      "text/html": [
       "<div>\n",
       "<style scoped>\n",
       "    .dataframe tbody tr th:only-of-type {\n",
       "        vertical-align: middle;\n",
       "    }\n",
       "\n",
       "    .dataframe tbody tr th {\n",
       "        vertical-align: top;\n",
       "    }\n",
       "\n",
       "    .dataframe thead th {\n",
       "        text-align: right;\n",
       "    }\n",
       "</style>\n",
       "<table border=\"1\" class=\"dataframe\">\n",
       "  <thead>\n",
       "    <tr style=\"text-align: right;\">\n",
       "      <th></th>\n",
       "      <th>prediction</th>\n",
       "      <th>response</th>\n",
       "      <th>pred_decile</th>\n",
       "      <th>class_prediction</th>\n",
       "    </tr>\n",
       "  </thead>\n",
       "  <tbody>\n",
       "    <tr>\n",
       "      <th>57629</th>\n",
       "      <td>0.382411</td>\n",
       "      <td>0.0</td>\n",
       "      <td>0</td>\n",
       "      <td>0.0</td>\n",
       "    </tr>\n",
       "    <tr>\n",
       "      <th>107033</th>\n",
       "      <td>0.360831</td>\n",
       "      <td>1.0</td>\n",
       "      <td>0</td>\n",
       "      <td>0.0</td>\n",
       "    </tr>\n",
       "    <tr>\n",
       "      <th>179524</th>\n",
       "      <td>0.352409</td>\n",
       "      <td>1.0</td>\n",
       "      <td>0</td>\n",
       "      <td>0.0</td>\n",
       "    </tr>\n",
       "    <tr>\n",
       "      <th>135566</th>\n",
       "      <td>0.334922</td>\n",
       "      <td>1.0</td>\n",
       "      <td>0</td>\n",
       "      <td>0.0</td>\n",
       "    </tr>\n",
       "    <tr>\n",
       "      <th>91215</th>\n",
       "      <td>0.377729</td>\n",
       "      <td>1.0</td>\n",
       "      <td>0</td>\n",
       "      <td>0.0</td>\n",
       "    </tr>\n",
       "    <tr>\n",
       "      <th>91204</th>\n",
       "      <td>0.381765</td>\n",
       "      <td>1.0</td>\n",
       "      <td>0</td>\n",
       "      <td>0.0</td>\n",
       "    </tr>\n",
       "    <tr>\n",
       "      <th>135585</th>\n",
       "      <td>0.336154</td>\n",
       "      <td>1.0</td>\n",
       "      <td>0</td>\n",
       "      <td>0.0</td>\n",
       "    </tr>\n",
       "    <tr>\n",
       "      <th>122199</th>\n",
       "      <td>0.341426</td>\n",
       "      <td>1.0</td>\n",
       "      <td>0</td>\n",
       "      <td>0.0</td>\n",
       "    </tr>\n",
       "    <tr>\n",
       "      <th>91191</th>\n",
       "      <td>0.358850</td>\n",
       "      <td>1.0</td>\n",
       "      <td>0</td>\n",
       "      <td>0.0</td>\n",
       "    </tr>\n",
       "    <tr>\n",
       "      <th>7952</th>\n",
       "      <td>0.330689</td>\n",
       "      <td>0.0</td>\n",
       "      <td>0</td>\n",
       "      <td>0.0</td>\n",
       "    </tr>\n",
       "  </tbody>\n",
       "</table>\n",
       "</div>"
      ],
      "text/plain": [
       "        prediction  response  pred_decile  class_prediction\n",
       "57629     0.382411       0.0            0               0.0\n",
       "107033    0.360831       1.0            0               0.0\n",
       "179524    0.352409       1.0            0               0.0\n",
       "135566    0.334922       1.0            0               0.0\n",
       "91215     0.377729       1.0            0               0.0\n",
       "91204     0.381765       1.0            0               0.0\n",
       "135585    0.336154       1.0            0               0.0\n",
       "122199    0.341426       1.0            0               0.0\n",
       "91191     0.358850       1.0            0               0.0\n",
       "7952      0.330689       0.0            0               0.0"
      ]
     },
     "execution_count": 104,
     "metadata": {},
     "output_type": "execute_result"
    }
   ],
   "source": [
    "#sort decile_table by decile, and add class_prediction column using best threshold 0.5\n",
    "decile_table=decile_table.sort_values('pred_decile', axis=0, ascending=True)\n",
    "decile_table.head(10)\n",
    "\n",
    "decile_table['class_prediction']=np.nan\n",
    "decile_table.loc[decile_table['prediction']>=0.5, 'class_prediction']=1\n",
    "decile_table.loc[decile_table['class_prediction'].isnull(), 'class_prediction']=0\n",
    "\n",
    "decile_table.head(10)"
   ]
  },
  {
   "cell_type": "code",
   "execution_count": 110,
   "metadata": {
    "collapsed": false
   },
   "outputs": [
    {
     "data": {
      "text/plain": [
       "dtype('int64')"
      ]
     },
     "execution_count": 110,
     "metadata": {},
     "output_type": "execute_result"
    }
   ],
   "source": [
    "decile_table['pred_decile'].dtype"
   ]
  },
  {
   "cell_type": "code",
   "execution_count": 160,
   "metadata": {
    "collapsed": false
   },
   "outputs": [],
   "source": [
    "#calculate Gain Table:\n",
    "perc_population=[]\n",
    "cum_perc_population=[]\n",
    "population_count=[]\n",
    "perc_response=[]\n",
    "cum_perc_response=[]\n",
    "response_count=[]\n",
    "last_decile_cpr=0\n",
    "for decile in list(range(0,10)):\n",
    "    \n",
    "    perc_population.append(0.1)\n",
    "    \n",
    "    cum_perc_population.append(0.1*(1+decile))\n",
    "    \n",
    "    perc_response.append(decile_table.loc[decile_table['pred_decile']==decile, 'response'].sum()/decile_table['response'].sum())\n",
    "    \n",
    "    this_decile_cpr=last_decile_cpr + decile_table.loc[decile_table['pred_decile']==decile, 'response'].sum()/decile_table['response'].sum()\n",
    "    \n",
    "    cum_perc_response.append(this_decile_cpr)\n",
    "    #cum_perc_response.append(cum_perc_response[len(cum_perc_response)-1] + decile_table.loc[\n",
    "            #decile_table['pred_decile']==decile, 'response'].sum()/decile_table['response'].sum()) \n",
    "    last_decile_cpr=cum_perc_response[len(cum_perc_response)-1]\n",
    "    \n",
    "    population_count.append(decile_table[decile_table['pred_decile']==decile].shape[0])\n",
    "    \n",
    "    response_count.append(decile_table.loc[decile_table['pred_decile']==decile, 'response'].sum())\n"
   ]
  },
  {
   "cell_type": "code",
   "execution_count": 161,
   "metadata": {
    "collapsed": false
   },
   "outputs": [
    {
     "data": {
      "text/html": [
       "<div>\n",
       "<style scoped>\n",
       "    .dataframe tbody tr th:only-of-type {\n",
       "        vertical-align: middle;\n",
       "    }\n",
       "\n",
       "    .dataframe tbody tr th {\n",
       "        vertical-align: top;\n",
       "    }\n",
       "\n",
       "    .dataframe thead th {\n",
       "        text-align: right;\n",
       "    }\n",
       "</style>\n",
       "<table border=\"1\" class=\"dataframe\">\n",
       "  <thead>\n",
       "    <tr style=\"text-align: right;\">\n",
       "      <th></th>\n",
       "      <th>cum_perc_population</th>\n",
       "      <th>cum_perc_response</th>\n",
       "      <th>decile</th>\n",
       "      <th>perc_population</th>\n",
       "      <th>perc_response</th>\n",
       "      <th>population_count</th>\n",
       "      <th>response_count</th>\n",
       "    </tr>\n",
       "  </thead>\n",
       "  <tbody>\n",
       "    <tr>\n",
       "      <th>0</th>\n",
       "      <td>0.1</td>\n",
       "      <td>0.069056</td>\n",
       "      <td>0</td>\n",
       "      <td>0.1</td>\n",
       "      <td>0.069056</td>\n",
       "      <td>18041</td>\n",
       "      <td>6215.0</td>\n",
       "    </tr>\n",
       "    <tr>\n",
       "      <th>1</th>\n",
       "      <td>0.2</td>\n",
       "      <td>0.145767</td>\n",
       "      <td>1</td>\n",
       "      <td>0.1</td>\n",
       "      <td>0.076711</td>\n",
       "      <td>18041</td>\n",
       "      <td>6904.0</td>\n",
       "    </tr>\n",
       "    <tr>\n",
       "      <th>2</th>\n",
       "      <td>0.3</td>\n",
       "      <td>0.222478</td>\n",
       "      <td>2</td>\n",
       "      <td>0.1</td>\n",
       "      <td>0.076711</td>\n",
       "      <td>18047</td>\n",
       "      <td>6904.0</td>\n",
       "    </tr>\n",
       "    <tr>\n",
       "      <th>3</th>\n",
       "      <td>0.4</td>\n",
       "      <td>0.303811</td>\n",
       "      <td>3</td>\n",
       "      <td>0.1</td>\n",
       "      <td>0.081333</td>\n",
       "      <td>18045</td>\n",
       "      <td>7320.0</td>\n",
       "    </tr>\n",
       "    <tr>\n",
       "      <th>4</th>\n",
       "      <td>0.5</td>\n",
       "      <td>0.395033</td>\n",
       "      <td>4</td>\n",
       "      <td>0.1</td>\n",
       "      <td>0.091222</td>\n",
       "      <td>18035</td>\n",
       "      <td>8210.0</td>\n",
       "    </tr>\n",
       "    <tr>\n",
       "      <th>5</th>\n",
       "      <td>0.6</td>\n",
       "      <td>0.491633</td>\n",
       "      <td>5</td>\n",
       "      <td>0.1</td>\n",
       "      <td>0.096600</td>\n",
       "      <td>18036</td>\n",
       "      <td>8694.0</td>\n",
       "    </tr>\n",
       "    <tr>\n",
       "      <th>6</th>\n",
       "      <td>0.7</td>\n",
       "      <td>0.599711</td>\n",
       "      <td>6</td>\n",
       "      <td>0.1</td>\n",
       "      <td>0.108078</td>\n",
       "      <td>18043</td>\n",
       "      <td>9727.0</td>\n",
       "    </tr>\n",
       "    <tr>\n",
       "      <th>7</th>\n",
       "      <td>0.8</td>\n",
       "      <td>0.717089</td>\n",
       "      <td>7</td>\n",
       "      <td>0.1</td>\n",
       "      <td>0.117378</td>\n",
       "      <td>18039</td>\n",
       "      <td>10564.0</td>\n",
       "    </tr>\n",
       "    <tr>\n",
       "      <th>8</th>\n",
       "      <td>0.9</td>\n",
       "      <td>0.847711</td>\n",
       "      <td>8</td>\n",
       "      <td>0.1</td>\n",
       "      <td>0.130622</td>\n",
       "      <td>18046</td>\n",
       "      <td>11756.0</td>\n",
       "    </tr>\n",
       "    <tr>\n",
       "      <th>9</th>\n",
       "      <td>1.0</td>\n",
       "      <td>1.000000</td>\n",
       "      <td>9</td>\n",
       "      <td>0.1</td>\n",
       "      <td>0.152289</td>\n",
       "      <td>18036</td>\n",
       "      <td>13706.0</td>\n",
       "    </tr>\n",
       "  </tbody>\n",
       "</table>\n",
       "</div>"
      ],
      "text/plain": [
       "   cum_perc_population  cum_perc_response  decile  perc_population  \\\n",
       "0                  0.1           0.069056       0              0.1   \n",
       "1                  0.2           0.145767       1              0.1   \n",
       "2                  0.3           0.222478       2              0.1   \n",
       "3                  0.4           0.303811       3              0.1   \n",
       "4                  0.5           0.395033       4              0.1   \n",
       "5                  0.6           0.491633       5              0.1   \n",
       "6                  0.7           0.599711       6              0.1   \n",
       "7                  0.8           0.717089       7              0.1   \n",
       "8                  0.9           0.847711       8              0.1   \n",
       "9                  1.0           1.000000       9              0.1   \n",
       "\n",
       "   perc_response  population_count  response_count  \n",
       "0       0.069056             18041          6215.0  \n",
       "1       0.076711             18041          6904.0  \n",
       "2       0.076711             18047          6904.0  \n",
       "3       0.081333             18045          7320.0  \n",
       "4       0.091222             18035          8210.0  \n",
       "5       0.096600             18036          8694.0  \n",
       "6       0.108078             18043          9727.0  \n",
       "7       0.117378             18039         10564.0  \n",
       "8       0.130622             18046         11756.0  \n",
       "9       0.152289             18036         13706.0  "
      ]
     },
     "execution_count": 161,
     "metadata": {},
     "output_type": "execute_result"
    }
   ],
   "source": [
    "#create gain table    \n",
    "gain_table=pd.DataFrame({\n",
    "        'decile': list(range(0,10)),\n",
    "        'population_count': population_count,\n",
    "        'perc_population': perc_population,\n",
    "        'cum_perc_population': cum_perc_population,\n",
    "        'response_count': response_count,\n",
    "        'cum_perc_response': cum_perc_response,\n",
    "        'perc_response': perc_response\n",
    "        \n",
    "    })\n",
    "\n",
    "gain_table"
   ]
  },
  {
   "cell_type": "code",
   "execution_count": 167,
   "metadata": {
    "collapsed": false
   },
   "outputs": [
    {
     "data": {
      "image/png": "[encoded data removed]",
      "text/plain": [
       "<matplotlib.figure.Figure at 0x1be275c0>"
      ]
     },
     "metadata": {},
     "output_type": "display_data"
    }
   ],
   "source": [
    "# Plot Lift Chart\n",
    "\n",
    "plt.plot(gain_table['decile'], gain_table['perc_response'], color='blue');\n",
    "plt.plot(gain_table['decile'], gain_table['perc_population'], color='grey');\n",
    "plt.title(\"Hit Rate Lift Chart across Deciles\")\n",
    "plt.xlabel(\"Decile\")\n",
    "plt.ylabel(\"Positive Hit Rate\")\n",
    "# Adding the legend and showing the plot\n",
    "plt.legend(['model','random'], loc='lower right')\n",
    "plt.grid()\n",
    "#savefig('uplift_mro_deciles.png')\n",
    "plt.show()"
   ]
  },
  {
   "cell_type": "markdown",
   "metadata": {
    "collapsed": true
   },
   "source": [
    "## Alternative Model: Random Forest "
   ]
  },
  {
   "cell_type": "code",
   "execution_count": 178,
   "metadata": {
    "collapsed": false
   },
   "outputs": [
    {
     "name": "stderr",
     "output_type": "stream",
     "text": [
      "C:\\Users\\Dingding\\Anaconda3\\lib\\site-packages\\sklearn\\cross_validation.py:41: DeprecationWarning: This module was deprecated in version 0.18 in favor of the model_selection module into which all the refactored classes and functions are moved. Also note that the interface of the new CV iterators are different from that of this module. This module will be removed in 0.20.\n",
      "  \"This module will be removed in 0.20.\", DeprecationWarning)\n"
     ]
    }
   ],
   "source": [
    "from sklearn.ensemble import RandomForestClassifier\n",
    "from sklearn import cross_validation"
   ]
  },
  {
   "cell_type": "code",
   "execution_count": 184,
   "metadata": {
    "collapsed": true
   },
   "outputs": [],
   "source": [
    "#Simple K-Fold cross validation. 10 folds.\n",
    "#cv = cross_validation.KFold(len(cols_to_model_train), n_folds=10, shuffle=False)"
   ]
  },
  {
   "cell_type": "code",
   "execution_count": 172,
   "metadata": {
    "collapsed": true
   },
   "outputs": [],
   "source": [
    "# Create a random forest Classifier. \n",
    "rfc = RandomForestClassifier(n_jobs=2, random_state=0)"
   ]
  },
  {
   "cell_type": "code",
   "execution_count": 173,
   "metadata": {
    "collapsed": true
   },
   "outputs": [],
   "source": [
    "# Train the Classifier to take the training features and learn how they relate\n",
    "rfc_fit=rfc.fit(cols_to_model_train, label_train)"
   ]
  },
  {
   "cell_type": "code",
   "execution_count": 185,
   "metadata": {
    "collapsed": false
   },
   "outputs": [
    {
     "name": "stdout",
     "output_type": "stream",
     "text": [
      "[ 0.94768133  0.90471661  0.94205311  0.94791914  0.94482759  0.94609592\n",
      "  0.94332144  0.94577024  0.94521525  0.94838659]\n"
     ]
    }
   ],
   "source": [
    "# Use 10 fold CV to test stability of trained model\n",
    "from sklearn.cross_validation import cross_val_score\n",
    "\n",
    "cv_accuracy_scores = cross_val_score(rfc_fit, cols_to_model_train, label_train, cv=10, scoring='accuracy')\n",
    "print(cv_accuracy_scores) "
   ]
  },
  {
   "cell_type": "code",
   "execution_count": 186,
   "metadata": {
    "collapsed": false
   },
   "outputs": [
    {
     "data": {
      "text/plain": [
       "0.9584630977609877"
      ]
     },
     "execution_count": 186,
     "metadata": {},
     "output_type": "execute_result"
    }
   ],
   "source": [
    "#model testing using testing set\n",
    "accuracy_score(label_test, rfc_fit.predict(cols_to_model_test).round())"
   ]
  },
  {
   "cell_type": "code",
   "execution_count": 176,
   "metadata": {
    "collapsed": false
   },
   "outputs": [
    {
     "data": {
      "image/png": "[encoded data removed]",
      "text/plain": [
       "<matplotlib.figure.Figure at 0x1bd86588>"
      ]
     },
     "metadata": {},
     "output_type": "display_data"
    }
   ],
   "source": [
    "#ROC & AUC\n",
    "# calculate the fpr and tpr for all thresholds of the classification\n",
    "from sklearn import metrics\n",
    "from sklearn.metrics import roc_curve, auc\n",
    "fpr, tpr, threshold = metrics.roc_curve(label_test, rfc_fit.predict(cols_to_model_test))\n",
    "roc_auc = metrics.auc(fpr, tpr)\n",
    "\n",
    "import matplotlib.pyplot as plt\n",
    "plt.title('Receiver Operating Characteristic - Random Forest Model')\n",
    "plt.plot(fpr, tpr, 'b', label = 'AUC = %0.2f' % roc_auc)\n",
    "plt.legend(loc = 'lower right')\n",
    "plt.plot([0, 1], [0, 1],'r--')\n",
    "plt.xlim([0, 1])\n",
    "plt.ylim([0, 1])\n",
    "plt.ylabel('True Positive Rate')\n",
    "plt.xlabel('False Positive Rate')\n",
    "plt.show()\n"
   ]
  },
  {
   "cell_type": "code",
   "execution_count": null,
   "metadata": {
    "collapsed": true
   },
   "outputs": [],
   "source": []
  }
 ],
 "metadata": {
  "anaconda-cloud": {},
  "kernelspec": {
   "display_name": "Python [conda root]",
   "language": "python",
   "name": "conda-root-py"
  },
  "language_info": {
   "codemirror_mode": {
    "name": "ipython",
    "version": 3
   },
   "file_extension": ".py",
   "mimetype": "text/x-python",
   "name": "python",
   "nbconvert_exporter": "python",
   "pygments_lexer": "ipython3",
   "version": "3.5.2"
  }
 },
 "nbformat": 4,
 "nbformat_minor": 1
}
